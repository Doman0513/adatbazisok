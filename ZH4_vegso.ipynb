{
    "metadata": {
        "kernelspec": {
            "name": "SQL",
            "display_name": "SQL",
            "language": "sql"
        },
        "language_info": {
            "name": "sql",
            "version": ""
        }
    },
    "nbformat_minor": 2,
    "nbformat": 4,
    "cells": [
        {
            "cell_type": "markdown",
            "source": [
                "Listázzuk azon vendégek nevét, email-címét és felhasználói nevét, akik egynél többször foglaltak!\n",
                "\n",
                "- Hagyjuk ki azokat a vendégeket, akik május hónapban születtek!"
            ],
            "metadata": {
                "azdata_cell_guid": "4bebfcbb-1e31-43f8-bc0d-7663a37f2d79"
            },
            "attachments": {}
        },
        {
            "cell_type": "code",
            "source": [
                "select nev,\r\n",
                "      email,\r\n",
                "     usernev\r\n",
                "from Vendeg\r\n",
                "where MONTH(SZUL_DAT) != 5 AND\r\n",
                "usernev in (select UGYFEL_FK from Foglalas group by UGYFEL_FK having count(*)>1)"
            ],
            "metadata": {
                "azdata_cell_guid": "242e4f4f-4424-48fd-b7ed-83a57631e15e",
                "language": "sql"
            },
            "outputs": [
                {
                    "output_type": "display_data",
                    "data": {
                        "text/html": "(169 rows affected)"
                    },
                    "metadata": {}
                },
                {
                    "output_type": "display_data",
                    "data": {
                        "text/html": "Total execution time: 00:00:00.035"
                    },
                    "metadata": {}
                },
                {
                    "output_type": "execute_result",
                    "metadata": {},
                    "execution_count": 6,
                    "data": {
                        "application/vnd.dataresource+json": {
                            "schema": {
                                "fields": [
                                    {
                                        "name": "nev"
                                    },
                                    {
                                        "name": "email"
                                    },
                                    {
                                        "name": "usernev"
                                    }
                                ]
                            },
                            "data": [
                                {
                                    "nev": "Kiss Ádám",
                                    "email": "ádám.kiss@mail.hu",
                                    "usernev": "adam1"
                                },
                                {
                                    "nev": "Barkóci Ádám",
                                    "email": "adam3@gmail.com",
                                    "usernev": "adam3"
                                },
                                {
                                    "nev": "Bieniek Ádám",
                                    "email": "ádám.bieniek@mail.hu",
                                    "usernev": "adam4"
                                },
                                {
                                    "nev": "Lengyel Ágnes",
                                    "email": "agnes@gmail.com",
                                    "usernev": "agnes"
                                },
                                {
                                    "nev": "Hartyánszky Ágnes",
                                    "email": "agnes3@gmail.com",
                                    "usernev": "agnes3"
                                },
                                {
                                    "nev": "Horváth Ágnes",
                                    "email": "AGNESH@gmail.com",
                                    "usernev": "AGNESH"
                                },
                                {
                                    "nev": "Kovács Ágnes",
                                    "email": "AGNESK@gmail.com",
                                    "usernev": "AGNESK"
                                },
                                {
                                    "nev": "Bíró Ákos",
                                    "email": "ákos.bíró@mail.hu",
                                    "usernev": "akos"
                                },
                                {
                                    "nev": "Dunai Aladár",
                                    "email": "aladár.dunai@mail.hu",
                                    "usernev": "aladar"
                                },
                                {
                                    "nev": "Bagóczki Alexandra",
                                    "email": "alexandra.bagóczki@mail.hu",
                                    "usernev": "alexandra"
                                },
                                {
                                    "nev": "Tóth András",
                                    "email": "andrás.tóth@mail.hu",
                                    "usernev": "andras2"
                                },
                                {
                                    "nev": "Molnár András",
                                    "email": "andrás.molnár@mail.hu",
                                    "usernev": "andras21"
                                },
                                {
                                    "nev": "Vígh András",
                                    "email": "andrás.vígh@mail.hu",
                                    "usernev": "andras3"
                                },
                                {
                                    "nev": "Back András",
                                    "email": "andras4@gmail.com",
                                    "usernev": "andras4"
                                },
                                {
                                    "nev": "Komjáti András",
                                    "email": "andras41@gmail.com",
                                    "usernev": "andras41"
                                },
                                {
                                    "nev": "Kiss Andrea",
                                    "email": "andrea.kiss@mail.hu",
                                    "usernev": "andrea"
                                },
                                {
                                    "nev": "Tornyos Andrea",
                                    "email": "ANDREAT@gmail.com",
                                    "usernev": "ANDREAT"
                                },
                                {
                                    "nev": "Pivarcsi Anett",
                                    "email": "anett.pivarcsi@mail.hu",
                                    "usernev": "anett3"
                                },
                                {
                                    "nev": "Tóth Anikó",
                                    "email": "aniko@gmail.com",
                                    "usernev": "aniko"
                                },
                                {
                                    "nev": "Böröcz Anikó",
                                    "email": "aniko4@gmail.com",
                                    "usernev": "aniko4"
                                },
                                {
                                    "nev": "Simon Anikó",
                                    "email": "ANIKOS@gmail.com",
                                    "usernev": "ANIKOS"
                                },
                                {
                                    "nev": "Hamvay-Kovács Anita",
                                    "email": "anita.hamvay-kovács@mail.hu",
                                    "usernev": "anita"
                                },
                                {
                                    "nev": "Szűcs Annamária",
                                    "email": "annamária.szűcs@mail.hu",
                                    "usernev": "annamaria1"
                                },
                                {
                                    "nev": "Regős Annamária",
                                    "email": "ANNAMARIAR@gmail.com",
                                    "usernev": "ANNAMARIAR"
                                },
                                {
                                    "nev": "Jakab Áron",
                                    "email": "aron2@gmail.com",
                                    "usernev": "aron2"
                                },
                                {
                                    "nev": "Kelemen Áron",
                                    "email": "áron.kelemen@mail.hu",
                                    "usernev": "ARONK"
                                },
                                {
                                    "nev": "Ötvös Árpád",
                                    "email": "árpád.ötvös@mail.hu",
                                    "usernev": "arpad2"
                                },
                                {
                                    "nev": "Móricz Árpád",
                                    "email": "árpád.móricz@mail.hu",
                                    "usernev": "ARPADM"
                                },
                                {
                                    "nev": "Csóti Attila",
                                    "email": "attila@gmail.com",
                                    "usernev": "attila"
                                },
                                {
                                    "nev": "Gulyás Attila",
                                    "email": "attila.gulyás@mail.hu",
                                    "usernev": "attila1"
                                },
                                {
                                    "nev": "Baróti Attila",
                                    "email": "attila.baróti@mail.hu",
                                    "usernev": "attila4"
                                },
                                {
                                    "nev": "Bozsik Balázs",
                                    "email": "balázs.bozsik@mail.hu",
                                    "usernev": "balazs1"
                                },
                                {
                                    "nev": "Szűcs Balázs",
                                    "email": "balázs.szűcs@mail.hu",
                                    "usernev": "balazs2"
                                },
                                {
                                    "nev": "Bakódy Balázs",
                                    "email": "balazs3@gmail.com",
                                    "usernev": "balazs3"
                                },
                                {
                                    "nev": "Horváth Bálint",
                                    "email": "balint@gmail.com",
                                    "usernev": "balint"
                                },
                                {
                                    "nev": "Molnár Bálint",
                                    "email": "balint1@gmail.com",
                                    "usernev": "balint1"
                                },
                                {
                                    "nev": "Vukasinovity Bálint",
                                    "email": "balint2@gmail.com",
                                    "usernev": "balint2"
                                },
                                {
                                    "nev": "Endresz Bálint",
                                    "email": "bálint.endresz@mail.hu",
                                    "usernev": "balu"
                                },
                                {
                                    "nev": "Bagi Beáta",
                                    "email": "beáta.bagi@mail.hu",
                                    "usernev": "beata4"
                                },
                                {
                                    "nev": "Kerényi Beatrix",
                                    "email": "beatrix.kerényi@mail.hu",
                                    "usernev": "BEATRIXK"
                                },
                                {
                                    "nev": "Szekendi Beatrix",
                                    "email": "beatrix.szekendi@mail.hu",
                                    "usernev": "BEATRIXS"
                                },
                                {
                                    "nev": "Farkas Béla",
                                    "email": "BELAF@gmail.com",
                                    "usernev": "BELAF"
                                },
                                {
                                    "nev": "Győrffy Bence",
                                    "email": "bence@gmail.com",
                                    "usernev": "bence"
                                },
                                {
                                    "nev": "Bajusz Bence",
                                    "email": "bence.bajusz@mail.hu",
                                    "usernev": "BENCEB"
                                },
                                {
                                    "nev": "Simon Bernadett",
                                    "email": "bernadett1@gmail.com",
                                    "usernev": "bernadett1"
                                },
                                {
                                    "nev": "Kovács Bernadett",
                                    "email": "bernadett.kovács@mail.hu",
                                    "usernev": "bernadett2"
                                },
                                {
                                    "nev": "Orbán Bernadett",
                                    "email": "bernadett.orbán@mail.hu",
                                    "usernev": "BERNADETTO"
                                },
                                {
                                    "nev": "Csiger Bertalan",
                                    "email": "bertalan@gmail.com",
                                    "usernev": "bertalan"
                                },
                                {
                                    "nev": "Székely Brigitta",
                                    "email": "brigitta.székely@mail.hu",
                                    "usernev": "brigitta"
                                },
                                {
                                    "nev": "Nagymihály Csongor",
                                    "email": "csongor.nagymihály@mail.hu",
                                    "usernev": "csongor3"
                                },
                                {
                                    "nev": "Vörös Dániel",
                                    "email": "daniel@gmail.com",
                                    "usernev": "dani"
                                },
                                {
                                    "nev": "Rácz Dániel",
                                    "email": "dániel.rácz@mail.hu",
                                    "usernev": "daniel"
                                },
                                {
                                    "nev": "Keszler Dániel",
                                    "email": "dániel.keszler@mail.hu",
                                    "usernev": "daniel1"
                                },
                                {
                                    "nev": "Ambrus Dávid",
                                    "email": "david@gmail.com",
                                    "usernev": "david"
                                },
                                {
                                    "nev": "Sobják Dávid",
                                    "email": "david1@gmail.com",
                                    "usernev": "david1"
                                },
                                {
                                    "nev": "Barna Debóra",
                                    "email": "debóra.barna@mail.hu",
                                    "usernev": "debora"
                                },
                                {
                                    "nev": "Tömböly Dénes",
                                    "email": "denes@gmail.com",
                                    "usernev": "denes"
                                },
                                {
                                    "nev": "Bittmann Edit",
                                    "email": "edit.bittmann@mail.hu",
                                    "usernev": "edit"
                                },
                                {
                                    "nev": "Kuruc Emese",
                                    "email": "emese.kuruc@mail.hu",
                                    "usernev": "emese"
                                },
                                {
                                    "nev": "Balogh Eszter",
                                    "email": "eszter.balogh@mail.hu",
                                    "usernev": "eszter2"
                                },
                                {
                                    "nev": "Fülöp Eszter",
                                    "email": "eszter.fülöp@mail.hu",
                                    "usernev": "eszter4"
                                },
                                {
                                    "nev": "Érsek Eszter",
                                    "email": "eszter.érsek@mail.hu",
                                    "usernev": "ESZTERE"
                                },
                                {
                                    "nev": "Enyedi Éva",
                                    "email": "eva@gmail.com",
                                    "usernev": "eva"
                                },
                                {
                                    "nev": "Perlinger Éva",
                                    "email": "eva2@gmail.com",
                                    "usernev": "eva2"
                                },
                                {
                                    "nev": "Viktor Éva",
                                    "email": "EVAV@gmail.com",
                                    "usernev": "EVAV"
                                },
                                {
                                    "nev": "Orosz Ferenc",
                                    "email": "ferenc.orosz@mail.hu",
                                    "usernev": "ferenc1"
                                },
                                {
                                    "nev": "Frank Fruzsina",
                                    "email": "fruzsina4@gmail.com",
                                    "usernev": "fruzsina4"
                                },
                                {
                                    "nev": "Köves Gábor",
                                    "email": "gabor1@gmail.com",
                                    "usernev": "gabor1"
                                },
                                {
                                    "nev": "Telek Gábor",
                                    "email": "gábor.telek@mail.hu",
                                    "usernev": "gabor4"
                                },
                                {
                                    "nev": "Nagy Gabriella",
                                    "email": "gabriella1@gmail.com",
                                    "usernev": "gabriella1"
                                },
                                {
                                    "nev": "Nyíri Georgij",
                                    "email": "georgij.nyíri@mail.hu",
                                    "usernev": "georgij"
                                },
                                {
                                    "nev": "Bárci Gusztáv",
                                    "email": "gusztav@gmail.com",
                                    "usernev": "gusztav"
                                },
                                {
                                    "nev": "Kornseé Gyöngyi",
                                    "email": "gyöngyi.kornseé@mail.hu",
                                    "usernev": "GYONGYIK"
                                },
                                {
                                    "nev": "Oroszi György",
                                    "email": "GYORGYO@gmail.com",
                                    "usernev": "GYORGYO"
                                },
                                {
                                    "nev": "Nádudvari Henrik",
                                    "email": "henrik.nádudvari@mail.hu",
                                    "usernev": "henrik3"
                                },
                                {
                                    "nev": "Andor Ibolya",
                                    "email": "ibolya.andor@mail.hu",
                                    "usernev": "IBOLYAA"
                                },
                                {
                                    "nev": "Bosnyák Ilona",
                                    "email": "ilona3@gmail.com",
                                    "usernev": "ilona3"
                                },
                                {
                                    "nev": "Búza Imre",
                                    "email": "imre.búza@mail.hu",
                                    "usernev": "imre"
                                },
                                {
                                    "nev": "Papp Imre",
                                    "email": "imre.papp@mail.hu",
                                    "usernev": "imre1"
                                },
                                {
                                    "nev": "Soós István",
                                    "email": "istvan@gmail.com",
                                    "usernev": "istvan"
                                },
                                {
                                    "nev": "Vizi István",
                                    "email": "istván.vizi@mail.hu",
                                    "usernev": "istvan1"
                                },
                                {
                                    "nev": "Varga István",
                                    "email": "ISTVANV@gmail.com",
                                    "usernev": "ISTVANV"
                                },
                                {
                                    "nev": "Harangozó János",
                                    "email": "janos3@gmail.com",
                                    "usernev": "janos3"
                                },
                                {
                                    "nev": "Giliga János",
                                    "email": "JANOSG@gmail.com",
                                    "usernev": "JANOSG"
                                },
                                {
                                    "nev": "Pálinkás János",
                                    "email": "JANOSP@gmail.com",
                                    "usernev": "JANOSP"
                                },
                                {
                                    "nev": "Gergely József",
                                    "email": "jozsef@gmail.com",
                                    "usernev": "jozsef"
                                },
                                {
                                    "nev": "Vajda József",
                                    "email": "józsef.vajda@mail.hu",
                                    "usernev": "jozsef2"
                                },
                                {
                                    "nev": "Hídasi Judit",
                                    "email": "JUDITH@gmail.com",
                                    "usernev": "JUDITH"
                                },
                                {
                                    "nev": "Tóth Júlia",
                                    "email": "julia@gmail.com",
                                    "usernev": "julia"
                                },
                                {
                                    "nev": "Nagy Júlia",
                                    "email": "julia4@gmail.com",
                                    "usernev": "julia4"
                                },
                                {
                                    "nev": "Szabó Julianna",
                                    "email": "julianna4@gmail.com",
                                    "usernev": "julianna4"
                                },
                                {
                                    "nev": "Gondos Katalin",
                                    "email": "katalin.gondos@mail.hu",
                                    "usernev": "kata"
                                },
                                {
                                    "nev": "Horváth Katalin",
                                    "email": "katalin.horváth@mail.hu",
                                    "usernev": "katalin"
                                },
                                {
                                    "nev": "Kertész Katalin",
                                    "email": "katalin4@gmail.com",
                                    "usernev": "katalin4"
                                },
                                {
                                    "nev": "Kovács Katalin",
                                    "email": "katalin.kovács@mail.hu",
                                    "usernev": "katka"
                                },
                                {
                                    "nev": "Bakó Klaudia",
                                    "email": "klaudia.bakó@mail.hu",
                                    "usernev": "klaudia2"
                                },
                                {
                                    "nev": "Lukács Kornél",
                                    "email": "kornél.lukács@mail.hu",
                                    "usernev": "kornel4"
                                },
                                {
                                    "nev": "Poprádi Kristóf",
                                    "email": "kristof4@gmail.com",
                                    "usernev": "kristof4"
                                },
                                {
                                    "nev": "Horváth Krisztina",
                                    "email": "kriszti@gmail.com",
                                    "usernev": "kriszti"
                                },
                                {
                                    "nev": "Czérna Krisztián",
                                    "email": "krisztián.czérna@mail.hu",
                                    "usernev": "krisztian4"
                                },
                                {
                                    "nev": "Bori Krisztina",
                                    "email": "krisztina.bori@mail.hu",
                                    "usernev": "krisztina1"
                                },
                                {
                                    "nev": "Gyárfás Krisztina",
                                    "email": "KRISZTINAG@gmail.com",
                                    "usernev": "KRISZTINAG"
                                },
                                {
                                    "nev": "Kiss Lajos",
                                    "email": "lajos.kiss@mail.hu",
                                    "usernev": "lajos"
                                },
                                {
                                    "nev": "Nagymihály Lajos",
                                    "email": "lajos.nagymihály@mail.hu",
                                    "usernev": "lala"
                                },
                                {
                                    "nev": "Móra László",
                                    "email": "lászló.móra@mail.hu",
                                    "usernev": "laszlo2"
                                },
                                {
                                    "nev": "Antal László",
                                    "email": "lászló.antal@mail.hu",
                                    "usernev": "LASZLOA"
                                },
                                {
                                    "nev": "Nagy László",
                                    "email": "lászló.nagy@mail.hu",
                                    "usernev": "LASZLON"
                                },
                                {
                                    "nev": "Baráth Mária",
                                    "email": "mária.baráth@mail.hu",
                                    "usernev": "maria1"
                                },
                                {
                                    "nev": "Kispál Márk",
                                    "email": "márk.kispál@mail.hu",
                                    "usernev": "mark"
                                },
                                {
                                    "nev": "Horváth Márk",
                                    "email": "márk.horváth@mail.hu",
                                    "usernev": "MARKH"
                                },
                                {
                                    "nev": "Kalacsi Márton",
                                    "email": "marton@gmail.com",
                                    "usernev": "marton"
                                },
                                {
                                    "nev": "Koza Máté",
                                    "email": "máté.koza@mail.hu",
                                    "usernev": "MATEK"
                                },
                                {
                                    "nev": "Botka Mátyás",
                                    "email": "matyas2@gmail.com",
                                    "usernev": "matyas2"
                                },
                                {
                                    "nev": "Szilágyi Mátyás",
                                    "email": "mátyás.szilágyi@mail.hu",
                                    "usernev": "MATYASS"
                                },
                                {
                                    "nev": "Juhász Mihály",
                                    "email": "mihály.juhász@mail.hu",
                                    "usernev": "MIHALYJ"
                                },
                                {
                                    "nev": "Gondos Miklós",
                                    "email": "miklos2@gmail.com",
                                    "usernev": "miklos2"
                                },
                                {
                                    "nev": "Balla Miklós",
                                    "email": "miklós.balla@mail.hu",
                                    "usernev": "MIKLOSB"
                                },
                                {
                                    "nev": "Mohos Mónika",
                                    "email": "mónika.mohos@mail.hu",
                                    "usernev": "MONIKAM"
                                },
                                {
                                    "nev": "Fő Nándor",
                                    "email": "nándor.fő@mail.hu",
                                    "usernev": "NANDORF"
                                },
                                {
                                    "nev": "Horváth Nikolett",
                                    "email": "nikolett3@gmail.com",
                                    "usernev": "nikolett3"
                                },
                                {
                                    "nev": "Kő Nikoletta",
                                    "email": "nikoletta4@gmail.com",
                                    "usernev": "nikoletta4"
                                },
                                {
                                    "nev": "Tatár Nikoletta",
                                    "email": "nikoletta.tatár@mail.hu",
                                    "usernev": "NIKOLETTAT"
                                },
                                {
                                    "nev": "Szűcs Norbert",
                                    "email": "norbert@gmail.com",
                                    "usernev": "norbert"
                                },
                                {
                                    "nev": "Hegedűs Norbert",
                                    "email": "norbert.hegedűs@mail.hu",
                                    "usernev": "norbert2"
                                },
                                {
                                    "nev": "Mile Norbert",
                                    "email": "norbert4@gmail.com",
                                    "usernev": "norbert4"
                                },
                                {
                                    "nev": "Béres Norbert",
                                    "email": "norbert5@gmail.com",
                                    "usernev": "norbert5"
                                },
                                {
                                    "nev": "Barabás Pál",
                                    "email": "pál.barabás@mail.hu",
                                    "usernev": "pal"
                                },
                                {
                                    "nev": "Kozma Péter",
                                    "email": "peter1@gmail.com",
                                    "usernev": "peter1"
                                },
                                {
                                    "nev": "Bozsó Péter",
                                    "email": "peter2@gmail.com",
                                    "usernev": "peter2"
                                },
                                {
                                    "nev": "Szalai Péter",
                                    "email": "peter3@gmail.com",
                                    "usernev": "peter3"
                                },
                                {
                                    "nev": "Bíró Péter",
                                    "email": "péter.bíró@mail.hu",
                                    "usernev": "peter4"
                                },
                                {
                                    "nev": "Berendi Péter",
                                    "email": "péter.berendi@mail.hu",
                                    "usernev": "PETERB"
                                },
                                {
                                    "nev": "Palágyi Polla",
                                    "email": "polla@gmail.com",
                                    "usernev": "polla"
                                },
                                {
                                    "nev": "Rácz Rajmond",
                                    "email": "rajmond.rácz@mail.hu",
                                    "usernev": "rajmond4"
                                },
                                {
                                    "nev": "Szikszai Réka",
                                    "email": "réka.szikszai@mail.hu",
                                    "usernev": "reka4"
                                },
                                {
                                    "nev": "Szirmai Renáta",
                                    "email": "RENATAS@gmail.com",
                                    "usernev": "RENATAS"
                                },
                                {
                                    "nev": "Patay Róbert",
                                    "email": "robert2@gmail.com",
                                    "usernev": "robert2"
                                },
                                {
                                    "nev": "Iván Róbert",
                                    "email": "róbert.iván@mail.hu",
                                    "usernev": "ROBERTI"
                                },
                                {
                                    "nev": "Tóth Roland",
                                    "email": "roland@gmail.com",
                                    "usernev": "roland"
                                },
                                {
                                    "nev": "Ferencz Roland",
                                    "email": "roland.ferencz@mail.hu",
                                    "usernev": "roland1"
                                },
                                {
                                    "nev": "Bucskó Róza",
                                    "email": "roza2@gmail.com",
                                    "usernev": "roza2"
                                },
                                {
                                    "nev": "Karasz Sándor",
                                    "email": "sandor@gmail.com",
                                    "usernev": "sandor"
                                },
                                {
                                    "nev": "Farkas Sándor",
                                    "email": "sándor.farkas@mail.hu",
                                    "usernev": "sandor3"
                                },
                                {
                                    "nev": "Nagy Sándor",
                                    "email": "sandor4@gmail.com",
                                    "usernev": "sandor4"
                                },
                                {
                                    "nev": "Farkas Sára",
                                    "email": "sára.farkas@mail.hu",
                                    "usernev": "sara"
                                },
                                {
                                    "nev": "Foltényi Sebastián",
                                    "email": "SEBASTIANF@gmail.com",
                                    "usernev": "SEBASTIANF"
                                },
                                {
                                    "nev": "Rab Sebestyén",
                                    "email": "sebestyen@gmail.com",
                                    "usernev": "sebestyen"
                                },
                                {
                                    "nev": "Miklós Szabolcs",
                                    "email": "szabolcs.miklós@mail.hu",
                                    "usernev": "SZABOLCSM"
                                },
                                {
                                    "nev": "Szalai Szilárd",
                                    "email": "szilárd.szalai@mail.hu",
                                    "usernev": "SZILARDS"
                                },
                                {
                                    "nev": "Tari Szilvia",
                                    "email": "szilvia.tari@mail.hu",
                                    "usernev": "szilvia1"
                                },
                                {
                                    "nev": "Miklós Tamara",
                                    "email": "tamara.miklós@mail.hu",
                                    "usernev": "tamara2"
                                },
                                {
                                    "nev": "Antal Tamás",
                                    "email": "tamás.antal@mail.hu",
                                    "usernev": "tamas"
                                },
                                {
                                    "nev": "Fényes Tamás",
                                    "email": "TAMASF@gmail.com",
                                    "usernev": "TAMASF"
                                },
                                {
                                    "nev": "Gombos Tibor",
                                    "email": "tibor.gombos@mail.hu",
                                    "usernev": "tibor"
                                },
                                {
                                    "nev": "Kazy Tihamér",
                                    "email": "tihamér.kazy@mail.hu",
                                    "usernev": "tihamer"
                                },
                                {
                                    "nev": "Dusha Tímea",
                                    "email": "tímea.dusha@mail.hu",
                                    "usernev": "timea2"
                                },
                                {
                                    "nev": "Turcsik Tünde",
                                    "email": "tunde@gmail.com",
                                    "usernev": "tunde"
                                },
                                {
                                    "nev": "Feró Valentin",
                                    "email": "valentin.feró@mail.hu",
                                    "usernev": "valentin"
                                },
                                {
                                    "nev": "Tankó Veronika",
                                    "email": "veronika4@gmail.com",
                                    "usernev": "veronika4"
                                },
                                {
                                    "nev": "Boros Vivien",
                                    "email": "vivien3@gmail.com",
                                    "usernev": "vivien3"
                                },
                                {
                                    "nev": "Fodor Zoltán",
                                    "email": "zoltán.fodor@mail.hu",
                                    "usernev": "zoltan"
                                },
                                {
                                    "nev": "Pintér Zoltán",
                                    "email": "zoltán.pintér@mail.hu",
                                    "usernev": "ZOLTANP"
                                },
                                {
                                    "nev": "Tóth Zoltán",
                                    "email": "zoltán.tóth@mail.hu",
                                    "usernev": "ZOLTANT"
                                },
                                {
                                    "nev": "Molnár Zsófi",
                                    "email": "zsofi1@gmail.com",
                                    "usernev": "zsofi1"
                                },
                                {
                                    "nev": "Józsa Zsolt",
                                    "email": "ZSOLTJ@gmail.com",
                                    "usernev": "ZSOLTJ"
                                },
                                {
                                    "nev": "Pusztai Zsuzsanna",
                                    "email": "zsuzsanna@gmail.com",
                                    "usernev": "zsuzsa"
                                },
                                {
                                    "nev": "Varsányi Zsuzsa",
                                    "email": "zsuzsa.varsányi@mail.hu",
                                    "usernev": "zsuzsa3"
                                },
                                {
                                    "nev": "Barta Zsuzsanna",
                                    "email": "zsuzsanna.barta@mail.hu",
                                    "usernev": "zsuzsanna"
                                },
                                {
                                    "nev": "Vajda Zsuzsa",
                                    "email": "zsuzsa.vajda@mail.hu",
                                    "usernev": "ZSUZSAV"
                                }
                            ]
                        },
                        "text/html": [
                            "<table>",
                            "<tr><th>nev</th><th>email</th><th>usernev</th></tr>",
                            "<tr><td>Kiss Ádám</td><td>ádám.kiss@mail.hu</td><td>adam1</td></tr>",
                            "<tr><td>Barkóci Ádám</td><td>adam3@gmail.com</td><td>adam3</td></tr>",
                            "<tr><td>Bieniek Ádám</td><td>ádám.bieniek@mail.hu</td><td>adam4</td></tr>",
                            "<tr><td>Lengyel Ágnes</td><td>agnes@gmail.com</td><td>agnes</td></tr>",
                            "<tr><td>Hartyánszky Ágnes</td><td>agnes3@gmail.com</td><td>agnes3</td></tr>",
                            "<tr><td>Horváth Ágnes</td><td>AGNESH@gmail.com</td><td>AGNESH</td></tr>",
                            "<tr><td>Kovács Ágnes</td><td>AGNESK@gmail.com</td><td>AGNESK</td></tr>",
                            "<tr><td>Bíró Ákos</td><td>ákos.bíró@mail.hu</td><td>akos</td></tr>",
                            "<tr><td>Dunai Aladár</td><td>aladár.dunai@mail.hu</td><td>aladar</td></tr>",
                            "<tr><td>Bagóczki Alexandra</td><td>alexandra.bagóczki@mail.hu</td><td>alexandra</td></tr>",
                            "<tr><td>Tóth András</td><td>andrás.tóth@mail.hu</td><td>andras2</td></tr>",
                            "<tr><td>Molnár András</td><td>andrás.molnár@mail.hu</td><td>andras21</td></tr>",
                            "<tr><td>Vígh András</td><td>andrás.vígh@mail.hu</td><td>andras3</td></tr>",
                            "<tr><td>Back András</td><td>andras4@gmail.com</td><td>andras4</td></tr>",
                            "<tr><td>Komjáti András</td><td>andras41@gmail.com</td><td>andras41</td></tr>",
                            "<tr><td>Kiss Andrea</td><td>andrea.kiss@mail.hu</td><td>andrea</td></tr>",
                            "<tr><td>Tornyos Andrea</td><td>ANDREAT@gmail.com</td><td>ANDREAT</td></tr>",
                            "<tr><td>Pivarcsi Anett</td><td>anett.pivarcsi@mail.hu</td><td>anett3</td></tr>",
                            "<tr><td>Tóth Anikó</td><td>aniko@gmail.com</td><td>aniko</td></tr>",
                            "<tr><td>Böröcz Anikó</td><td>aniko4@gmail.com</td><td>aniko4</td></tr>",
                            "<tr><td>Simon Anikó</td><td>ANIKOS@gmail.com</td><td>ANIKOS</td></tr>",
                            "<tr><td>Hamvay-Kovács Anita</td><td>anita.hamvay-kovács@mail.hu</td><td>anita</td></tr>",
                            "<tr><td>Szűcs Annamária</td><td>annamária.szűcs@mail.hu</td><td>annamaria1</td></tr>",
                            "<tr><td>Regős Annamária</td><td>ANNAMARIAR@gmail.com</td><td>ANNAMARIAR</td></tr>",
                            "<tr><td>Jakab Áron</td><td>aron2@gmail.com</td><td>aron2</td></tr>",
                            "<tr><td>Kelemen Áron</td><td>áron.kelemen@mail.hu</td><td>ARONK</td></tr>",
                            "<tr><td>Ötvös Árpád</td><td>árpád.ötvös@mail.hu</td><td>arpad2</td></tr>",
                            "<tr><td>Móricz Árpád</td><td>árpád.móricz@mail.hu</td><td>ARPADM</td></tr>",
                            "<tr><td>Csóti Attila</td><td>attila@gmail.com</td><td>attila</td></tr>",
                            "<tr><td>Gulyás Attila</td><td>attila.gulyás@mail.hu</td><td>attila1</td></tr>",
                            "<tr><td>Baróti Attila</td><td>attila.baróti@mail.hu</td><td>attila4</td></tr>",
                            "<tr><td>Bozsik Balázs</td><td>balázs.bozsik@mail.hu</td><td>balazs1</td></tr>",
                            "<tr><td>Szűcs Balázs</td><td>balázs.szűcs@mail.hu</td><td>balazs2</td></tr>",
                            "<tr><td>Bakódy Balázs</td><td>balazs3@gmail.com</td><td>balazs3</td></tr>",
                            "<tr><td>Horváth Bálint</td><td>balint@gmail.com</td><td>balint</td></tr>",
                            "<tr><td>Molnár Bálint</td><td>balint1@gmail.com</td><td>balint1</td></tr>",
                            "<tr><td>Vukasinovity Bálint</td><td>balint2@gmail.com</td><td>balint2</td></tr>",
                            "<tr><td>Endresz Bálint</td><td>bálint.endresz@mail.hu</td><td>balu</td></tr>",
                            "<tr><td>Bagi Beáta</td><td>beáta.bagi@mail.hu</td><td>beata4</td></tr>",
                            "<tr><td>Kerényi Beatrix</td><td>beatrix.kerényi@mail.hu</td><td>BEATRIXK</td></tr>",
                            "<tr><td>Szekendi Beatrix</td><td>beatrix.szekendi@mail.hu</td><td>BEATRIXS</td></tr>",
                            "<tr><td>Farkas Béla</td><td>BELAF@gmail.com</td><td>BELAF</td></tr>",
                            "<tr><td>Győrffy Bence</td><td>bence@gmail.com</td><td>bence</td></tr>",
                            "<tr><td>Bajusz Bence</td><td>bence.bajusz@mail.hu</td><td>BENCEB</td></tr>",
                            "<tr><td>Simon Bernadett</td><td>bernadett1@gmail.com</td><td>bernadett1</td></tr>",
                            "<tr><td>Kovács Bernadett</td><td>bernadett.kovács@mail.hu</td><td>bernadett2</td></tr>",
                            "<tr><td>Orbán Bernadett</td><td>bernadett.orbán@mail.hu</td><td>BERNADETTO</td></tr>",
                            "<tr><td>Csiger Bertalan</td><td>bertalan@gmail.com</td><td>bertalan</td></tr>",
                            "<tr><td>Székely Brigitta</td><td>brigitta.székely@mail.hu</td><td>brigitta</td></tr>",
                            "<tr><td>Nagymihály Csongor</td><td>csongor.nagymihály@mail.hu</td><td>csongor3</td></tr>",
                            "<tr><td>Vörös Dániel</td><td>daniel@gmail.com</td><td>dani</td></tr>",
                            "<tr><td>Rácz Dániel</td><td>dániel.rácz@mail.hu</td><td>daniel</td></tr>",
                            "<tr><td>Keszler Dániel</td><td>dániel.keszler@mail.hu</td><td>daniel1</td></tr>",
                            "<tr><td>Ambrus Dávid</td><td>david@gmail.com</td><td>david</td></tr>",
                            "<tr><td>Sobják Dávid</td><td>david1@gmail.com</td><td>david1</td></tr>",
                            "<tr><td>Barna Debóra</td><td>debóra.barna@mail.hu</td><td>debora</td></tr>",
                            "<tr><td>Tömböly Dénes</td><td>denes@gmail.com</td><td>denes</td></tr>",
                            "<tr><td>Bittmann Edit</td><td>edit.bittmann@mail.hu</td><td>edit</td></tr>",
                            "<tr><td>Kuruc Emese</td><td>emese.kuruc@mail.hu</td><td>emese</td></tr>",
                            "<tr><td>Balogh Eszter</td><td>eszter.balogh@mail.hu</td><td>eszter2</td></tr>",
                            "<tr><td>Fülöp Eszter</td><td>eszter.fülöp@mail.hu</td><td>eszter4</td></tr>",
                            "<tr><td>Érsek Eszter</td><td>eszter.érsek@mail.hu</td><td>ESZTERE</td></tr>",
                            "<tr><td>Enyedi Éva</td><td>eva@gmail.com</td><td>eva</td></tr>",
                            "<tr><td>Perlinger Éva</td><td>eva2@gmail.com</td><td>eva2</td></tr>",
                            "<tr><td>Viktor Éva</td><td>EVAV@gmail.com</td><td>EVAV</td></tr>",
                            "<tr><td>Orosz Ferenc</td><td>ferenc.orosz@mail.hu</td><td>ferenc1</td></tr>",
                            "<tr><td>Frank Fruzsina</td><td>fruzsina4@gmail.com</td><td>fruzsina4</td></tr>",
                            "<tr><td>Köves Gábor</td><td>gabor1@gmail.com</td><td>gabor1</td></tr>",
                            "<tr><td>Telek Gábor</td><td>gábor.telek@mail.hu</td><td>gabor4</td></tr>",
                            "<tr><td>Nagy Gabriella</td><td>gabriella1@gmail.com</td><td>gabriella1</td></tr>",
                            "<tr><td>Nyíri Georgij</td><td>georgij.nyíri@mail.hu</td><td>georgij</td></tr>",
                            "<tr><td>Bárci Gusztáv</td><td>gusztav@gmail.com</td><td>gusztav</td></tr>",
                            "<tr><td>Kornseé Gyöngyi</td><td>gyöngyi.kornseé@mail.hu</td><td>GYONGYIK</td></tr>",
                            "<tr><td>Oroszi György</td><td>GYORGYO@gmail.com</td><td>GYORGYO</td></tr>",
                            "<tr><td>Nádudvari Henrik</td><td>henrik.nádudvari@mail.hu</td><td>henrik3</td></tr>",
                            "<tr><td>Andor Ibolya</td><td>ibolya.andor@mail.hu</td><td>IBOLYAA</td></tr>",
                            "<tr><td>Bosnyák Ilona</td><td>ilona3@gmail.com</td><td>ilona3</td></tr>",
                            "<tr><td>Búza Imre</td><td>imre.búza@mail.hu</td><td>imre</td></tr>",
                            "<tr><td>Papp Imre</td><td>imre.papp@mail.hu</td><td>imre1</td></tr>",
                            "<tr><td>Soós István</td><td>istvan@gmail.com</td><td>istvan</td></tr>",
                            "<tr><td>Vizi István</td><td>istván.vizi@mail.hu</td><td>istvan1</td></tr>",
                            "<tr><td>Varga István</td><td>ISTVANV@gmail.com</td><td>ISTVANV</td></tr>",
                            "<tr><td>Harangozó János</td><td>janos3@gmail.com</td><td>janos3</td></tr>",
                            "<tr><td>Giliga János</td><td>JANOSG@gmail.com</td><td>JANOSG</td></tr>",
                            "<tr><td>Pálinkás János</td><td>JANOSP@gmail.com</td><td>JANOSP</td></tr>",
                            "<tr><td>Gergely József</td><td>jozsef@gmail.com</td><td>jozsef</td></tr>",
                            "<tr><td>Vajda József</td><td>józsef.vajda@mail.hu</td><td>jozsef2</td></tr>",
                            "<tr><td>Hídasi Judit</td><td>JUDITH@gmail.com</td><td>JUDITH</td></tr>",
                            "<tr><td>Tóth Júlia</td><td>julia@gmail.com</td><td>julia</td></tr>",
                            "<tr><td>Nagy Júlia</td><td>julia4@gmail.com</td><td>julia4</td></tr>",
                            "<tr><td>Szabó Julianna</td><td>julianna4@gmail.com</td><td>julianna4</td></tr>",
                            "<tr><td>Gondos Katalin</td><td>katalin.gondos@mail.hu</td><td>kata</td></tr>",
                            "<tr><td>Horváth Katalin</td><td>katalin.horváth@mail.hu</td><td>katalin</td></tr>",
                            "<tr><td>Kertész Katalin</td><td>katalin4@gmail.com</td><td>katalin4</td></tr>",
                            "<tr><td>Kovács Katalin</td><td>katalin.kovács@mail.hu</td><td>katka</td></tr>",
                            "<tr><td>Bakó Klaudia</td><td>klaudia.bakó@mail.hu</td><td>klaudia2</td></tr>",
                            "<tr><td>Lukács Kornél</td><td>kornél.lukács@mail.hu</td><td>kornel4</td></tr>",
                            "<tr><td>Poprádi Kristóf</td><td>kristof4@gmail.com</td><td>kristof4</td></tr>",
                            "<tr><td>Horváth Krisztina</td><td>kriszti@gmail.com</td><td>kriszti</td></tr>",
                            "<tr><td>Czérna Krisztián</td><td>krisztián.czérna@mail.hu</td><td>krisztian4</td></tr>",
                            "<tr><td>Bori Krisztina</td><td>krisztina.bori@mail.hu</td><td>krisztina1</td></tr>",
                            "<tr><td>Gyárfás Krisztina</td><td>KRISZTINAG@gmail.com</td><td>KRISZTINAG</td></tr>",
                            "<tr><td>Kiss Lajos</td><td>lajos.kiss@mail.hu</td><td>lajos</td></tr>",
                            "<tr><td>Nagymihály Lajos</td><td>lajos.nagymihály@mail.hu</td><td>lala</td></tr>",
                            "<tr><td>Móra László</td><td>lászló.móra@mail.hu</td><td>laszlo2</td></tr>",
                            "<tr><td>Antal László</td><td>lászló.antal@mail.hu</td><td>LASZLOA</td></tr>",
                            "<tr><td>Nagy László</td><td>lászló.nagy@mail.hu</td><td>LASZLON</td></tr>",
                            "<tr><td>Baráth Mária</td><td>mária.baráth@mail.hu</td><td>maria1</td></tr>",
                            "<tr><td>Kispál Márk</td><td>márk.kispál@mail.hu</td><td>mark</td></tr>",
                            "<tr><td>Horváth Márk</td><td>márk.horváth@mail.hu</td><td>MARKH</td></tr>",
                            "<tr><td>Kalacsi Márton</td><td>marton@gmail.com</td><td>marton</td></tr>",
                            "<tr><td>Koza Máté</td><td>máté.koza@mail.hu</td><td>MATEK</td></tr>",
                            "<tr><td>Botka Mátyás</td><td>matyas2@gmail.com</td><td>matyas2</td></tr>",
                            "<tr><td>Szilágyi Mátyás</td><td>mátyás.szilágyi@mail.hu</td><td>MATYASS</td></tr>",
                            "<tr><td>Juhász Mihály</td><td>mihály.juhász@mail.hu</td><td>MIHALYJ</td></tr>",
                            "<tr><td>Gondos Miklós</td><td>miklos2@gmail.com</td><td>miklos2</td></tr>",
                            "<tr><td>Balla Miklós</td><td>miklós.balla@mail.hu</td><td>MIKLOSB</td></tr>",
                            "<tr><td>Mohos Mónika</td><td>mónika.mohos@mail.hu</td><td>MONIKAM</td></tr>",
                            "<tr><td>Fő Nándor</td><td>nándor.fő@mail.hu</td><td>NANDORF</td></tr>",
                            "<tr><td>Horváth Nikolett</td><td>nikolett3@gmail.com</td><td>nikolett3</td></tr>",
                            "<tr><td>Kő Nikoletta</td><td>nikoletta4@gmail.com</td><td>nikoletta4</td></tr>",
                            "<tr><td>Tatár Nikoletta</td><td>nikoletta.tatár@mail.hu</td><td>NIKOLETTAT</td></tr>",
                            "<tr><td>Szűcs Norbert</td><td>norbert@gmail.com</td><td>norbert</td></tr>",
                            "<tr><td>Hegedűs Norbert</td><td>norbert.hegedűs@mail.hu</td><td>norbert2</td></tr>",
                            "<tr><td>Mile Norbert</td><td>norbert4@gmail.com</td><td>norbert4</td></tr>",
                            "<tr><td>Béres Norbert</td><td>norbert5@gmail.com</td><td>norbert5</td></tr>",
                            "<tr><td>Barabás Pál</td><td>pál.barabás@mail.hu</td><td>pal</td></tr>",
                            "<tr><td>Kozma Péter</td><td>peter1@gmail.com</td><td>peter1</td></tr>",
                            "<tr><td>Bozsó Péter</td><td>peter2@gmail.com</td><td>peter2</td></tr>",
                            "<tr><td>Szalai Péter</td><td>peter3@gmail.com</td><td>peter3</td></tr>",
                            "<tr><td>Bíró Péter</td><td>péter.bíró@mail.hu</td><td>peter4</td></tr>",
                            "<tr><td>Berendi Péter</td><td>péter.berendi@mail.hu</td><td>PETERB</td></tr>",
                            "<tr><td>Palágyi Polla</td><td>polla@gmail.com</td><td>polla</td></tr>",
                            "<tr><td>Rácz Rajmond</td><td>rajmond.rácz@mail.hu</td><td>rajmond4</td></tr>",
                            "<tr><td>Szikszai Réka</td><td>réka.szikszai@mail.hu</td><td>reka4</td></tr>",
                            "<tr><td>Szirmai Renáta</td><td>RENATAS@gmail.com</td><td>RENATAS</td></tr>",
                            "<tr><td>Patay Róbert</td><td>robert2@gmail.com</td><td>robert2</td></tr>",
                            "<tr><td>Iván Róbert</td><td>róbert.iván@mail.hu</td><td>ROBERTI</td></tr>",
                            "<tr><td>Tóth Roland</td><td>roland@gmail.com</td><td>roland</td></tr>",
                            "<tr><td>Ferencz Roland</td><td>roland.ferencz@mail.hu</td><td>roland1</td></tr>",
                            "<tr><td>Bucskó Róza</td><td>roza2@gmail.com</td><td>roza2</td></tr>",
                            "<tr><td>Karasz Sándor</td><td>sandor@gmail.com</td><td>sandor</td></tr>",
                            "<tr><td>Farkas Sándor</td><td>sándor.farkas@mail.hu</td><td>sandor3</td></tr>",
                            "<tr><td>Nagy Sándor</td><td>sandor4@gmail.com</td><td>sandor4</td></tr>",
                            "<tr><td>Farkas Sára</td><td>sára.farkas@mail.hu</td><td>sara</td></tr>",
                            "<tr><td>Foltényi Sebastián</td><td>SEBASTIANF@gmail.com</td><td>SEBASTIANF</td></tr>",
                            "<tr><td>Rab Sebestyén</td><td>sebestyen@gmail.com</td><td>sebestyen</td></tr>",
                            "<tr><td>Miklós Szabolcs</td><td>szabolcs.miklós@mail.hu</td><td>SZABOLCSM</td></tr>",
                            "<tr><td>Szalai Szilárd</td><td>szilárd.szalai@mail.hu</td><td>SZILARDS</td></tr>",
                            "<tr><td>Tari Szilvia</td><td>szilvia.tari@mail.hu</td><td>szilvia1</td></tr>",
                            "<tr><td>Miklós Tamara</td><td>tamara.miklós@mail.hu</td><td>tamara2</td></tr>",
                            "<tr><td>Antal Tamás</td><td>tamás.antal@mail.hu</td><td>tamas</td></tr>",
                            "<tr><td>Fényes Tamás</td><td>TAMASF@gmail.com</td><td>TAMASF</td></tr>",
                            "<tr><td>Gombos Tibor</td><td>tibor.gombos@mail.hu</td><td>tibor</td></tr>",
                            "<tr><td>Kazy Tihamér</td><td>tihamér.kazy@mail.hu</td><td>tihamer</td></tr>",
                            "<tr><td>Dusha Tímea</td><td>tímea.dusha@mail.hu</td><td>timea2</td></tr>",
                            "<tr><td>Turcsik Tünde</td><td>tunde@gmail.com</td><td>tunde</td></tr>",
                            "<tr><td>Feró Valentin</td><td>valentin.feró@mail.hu</td><td>valentin</td></tr>",
                            "<tr><td>Tankó Veronika</td><td>veronika4@gmail.com</td><td>veronika4</td></tr>",
                            "<tr><td>Boros Vivien</td><td>vivien3@gmail.com</td><td>vivien3</td></tr>",
                            "<tr><td>Fodor Zoltán</td><td>zoltán.fodor@mail.hu</td><td>zoltan</td></tr>",
                            "<tr><td>Pintér Zoltán</td><td>zoltán.pintér@mail.hu</td><td>ZOLTANP</td></tr>",
                            "<tr><td>Tóth Zoltán</td><td>zoltán.tóth@mail.hu</td><td>ZOLTANT</td></tr>",
                            "<tr><td>Molnár Zsófi</td><td>zsofi1@gmail.com</td><td>zsofi1</td></tr>",
                            "<tr><td>Józsa Zsolt</td><td>ZSOLTJ@gmail.com</td><td>ZSOLTJ</td></tr>",
                            "<tr><td>Pusztai Zsuzsanna</td><td>zsuzsanna@gmail.com</td><td>zsuzsa</td></tr>",
                            "<tr><td>Varsányi Zsuzsa</td><td>zsuzsa.varsányi@mail.hu</td><td>zsuzsa3</td></tr>",
                            "<tr><td>Barta Zsuzsanna</td><td>zsuzsanna.barta@mail.hu</td><td>zsuzsanna</td></tr>",
                            "<tr><td>Vajda Zsuzsa</td><td>zsuzsa.vajda@mail.hu</td><td>ZSUZSAV</td></tr>",
                            "</table>"
                        ]
                    }
                }
            ],
            "execution_count": 6
        },
        {
            "cell_type": "markdown",
            "source": [
                "<span style=\"color: rgb(0, 0, 0); font-family: &quot;Open Sans&quot;, sans-serif; font-size: 14.44px; background-color: rgb(255, 255, 255);\">Listázzuk azon szálláshelyek azonosítóját és nevét, amelyek a saját helyükön (HELY) a legtöbb csillaggal rendelkeznek!</span>"
            ],
            "metadata": {
                "azdata_cell_guid": "e8f9c631-9f45-443c-bf0c-005ebfd228fa"
            },
            "attachments": {}
        },
        {
            "cell_type": "code",
            "source": [
                "SELECT  S1.SZALLAS_ID, \r\n",
                "    S1.SZALLAS_NEV\r\n",
                "FROM SZALLASHELY S1\r\n",
                "JOIN (SELECT HELY, MAX(CSILLAGOK_SZAMA) AS MAX_CSILLAGOK\r\n",
                "     FROM SZALLASHELY\r\n",
                "     GROUP BY HELY) S2 \r\n",
                "ON S1.HELY = S2.HELY AND S1.CSILLAGOK_SZAMA = S2.MAX_CSILLAGOK;\r\n",
                "\r\n",
                "    "
            ],
            "metadata": {
                "azdata_cell_guid": "d6355df9-60fe-4bc4-bd73-7bcd70da6da2",
                "language": "sql"
            },
            "outputs": [
                {
                    "output_type": "display_data",
                    "data": {
                        "text/html": "(11 rows affected)"
                    },
                    "metadata": {}
                },
                {
                    "output_type": "display_data",
                    "data": {
                        "text/html": "Total execution time: 00:00:00.012"
                    },
                    "metadata": {}
                },
                {
                    "output_type": "execute_result",
                    "metadata": {},
                    "execution_count": 9,
                    "data": {
                        "application/vnd.dataresource+json": {
                            "schema": {
                                "fields": [
                                    {
                                        "name": "SZALLAS_ID"
                                    },
                                    {
                                        "name": "SZALLAS_NEV"
                                    }
                                ]
                            },
                            "data": [
                                {
                                    "SZALLAS_ID": "17",
                                    "SZALLAS_NEV": "Szarvas Hotel"
                                },
                                {
                                    "SZALLAS_ID": "16",
                                    "SZALLAS_NEV": "Bagoly Hotel"
                                },
                                {
                                    "SZALLAS_ID": "3",
                                    "SZALLAS_NEV": "Fortuna Apartman"
                                },
                                {
                                    "SZALLAS_ID": "18",
                                    "SZALLAS_NEV": "Fortuna Apartman"
                                },
                                {
                                    "SZALLAS_ID": "19",
                                    "SZALLAS_NEV": "Nyárfás Vendégház"
                                },
                                {
                                    "SZALLAS_ID": "21",
                                    "SZALLAS_NEV": "Müller Vendégház"
                                },
                                {
                                    "SZALLAS_ID": "13",
                                    "SZALLAS_NEV": "Riviéra Panzió"
                                },
                                {
                                    "SZALLAS_ID": "10",
                                    "SZALLAS_NEV": "Lagúna Hotel"
                                },
                                {
                                    "SZALLAS_ID": "5",
                                    "SZALLAS_NEV": "Fortuna Panzió"
                                },
                                {
                                    "SZALLAS_ID": "11",
                                    "SZALLAS_NEV": "Partiszél Vendégház"
                                },
                                {
                                    "SZALLAS_ID": "8",
                                    "SZALLAS_NEV": "Hotel Három Hattyú"
                                }
                            ]
                        },
                        "text/html": [
                            "<table>",
                            "<tr><th>SZALLAS_ID</th><th>SZALLAS_NEV</th></tr>",
                            "<tr><td>17</td><td>Szarvas Hotel</td></tr>",
                            "<tr><td>16</td><td>Bagoly Hotel</td></tr>",
                            "<tr><td>3</td><td>Fortuna Apartman</td></tr>",
                            "<tr><td>18</td><td>Fortuna Apartman</td></tr>",
                            "<tr><td>19</td><td>Nyárfás Vendégház</td></tr>",
                            "<tr><td>21</td><td>Müller Vendégház</td></tr>",
                            "<tr><td>13</td><td>Riviéra Panzió</td></tr>",
                            "<tr><td>10</td><td>Lagúna Hotel</td></tr>",
                            "<tr><td>5</td><td>Fortuna Panzió</td></tr>",
                            "<tr><td>11</td><td>Partiszél Vendégház</td></tr>",
                            "<tr><td>8</td><td>Hotel Három Hattyú</td></tr>",
                            "</table>"
                        ]
                    }
                }
            ],
            "execution_count": 9
        },
        {
            "cell_type": "markdown",
            "source": [
                "Készítsen lekérdezést, amely sorszámozza a vendégeket a foglalások száma alapján\n",
                "\n",
                "- A sorszám mellett jelenjen meg a vendég azonosítója, neve és a foglalások száma is\n",
                "- A legtöbbet foglaló vendég kapja az egyes sorszámot\n",
                "- Holtverseny esetén a számozás annyit ugorjon, ahány egyforma érték van"
            ],
            "metadata": {
                "azdata_cell_guid": "219dc7e5-2507-44bc-966a-b3eee0d6a94f"
            },
            "attachments": {}
        },
        {
            "cell_type": "code",
            "source": [
                "SELECT RANK() OVER(ORDER BY COUNT(*) desc) as 'rang',\r\n",
                "v.USERNEV,\r\n",
                "v.NEV,\r\n",
                "COUNT(*) AS 'foglalasszam'\r\n",
                "FROM Vendeg v JOIN Foglalas f ON v.USERNEV = f.UGYFEL_FK\r\n",
                "GROUP BY v.USERNEV, v.NEV"
            ],
            "metadata": {
                "azdata_cell_guid": "5fa4cace-5963-4a9a-987b-253c75048fbb",
                "language": "sql"
            },
            "outputs": [
                {
                    "output_type": "display_data",
                    "data": {
                        "text/html": "(195 rows affected)"
                    },
                    "metadata": {}
                },
                {
                    "output_type": "display_data",
                    "data": {
                        "text/html": "Total execution time: 00:00:00.029"
                    },
                    "metadata": {}
                },
                {
                    "output_type": "execute_result",
                    "metadata": {},
                    "execution_count": 20,
                    "data": {
                        "application/vnd.dataresource+json": {
                            "schema": {
                                "fields": [
                                    {
                                        "name": "rang"
                                    },
                                    {
                                        "name": "USERNEV"
                                    },
                                    {
                                        "name": "NEV"
                                    },
                                    {
                                        "name": "db"
                                    }
                                ]
                            },
                            "data": [
                                {
                                    "rang": "1",
                                    "USERNEV": "andras41",
                                    "NEV": "Komjáti András",
                                    "db": "13"
                                },
                                {
                                    "rang": "1",
                                    "USERNEV": "ARONK",
                                    "NEV": "Kelemen Áron",
                                    "db": "13"
                                },
                                {
                                    "rang": "3",
                                    "USERNEV": "krisztian4",
                                    "NEV": "Czérna Krisztián",
                                    "db": "12"
                                },
                                {
                                    "rang": "3",
                                    "USERNEV": "peter4",
                                    "NEV": "Bíró Péter",
                                    "db": "12"
                                },
                                {
                                    "rang": "3",
                                    "USERNEV": "sara",
                                    "NEV": "Farkas Sára",
                                    "db": "12"
                                },
                                {
                                    "rang": "3",
                                    "USERNEV": "zoltan4",
                                    "NEV": "Barna Zoltán",
                                    "db": "12"
                                },
                                {
                                    "rang": "7",
                                    "USERNEV": "kata",
                                    "NEV": "Gondos Katalin",
                                    "db": "10"
                                },
                                {
                                    "rang": "7",
                                    "USERNEV": "akos",
                                    "NEV": "Bíró Ákos",
                                    "db": "10"
                                },
                                {
                                    "rang": "7",
                                    "USERNEV": "balazs2",
                                    "NEV": "Szűcs Balázs",
                                    "db": "10"
                                },
                                {
                                    "rang": "7",
                                    "USERNEV": "balint1",
                                    "NEV": "Molnár Bálint",
                                    "db": "10"
                                },
                                {
                                    "rang": "7",
                                    "USERNEV": "eszter2",
                                    "NEV": "Balogh Eszter",
                                    "db": "10"
                                },
                                {
                                    "rang": "12",
                                    "USERNEV": "dani",
                                    "NEV": "Vörös Dániel",
                                    "db": "9"
                                },
                                {
                                    "rang": "12",
                                    "USERNEV": "daniel",
                                    "NEV": "Rácz Dániel",
                                    "db": "9"
                                },
                                {
                                    "rang": "12",
                                    "USERNEV": "david",
                                    "NEV": "Ambrus Dávid",
                                    "db": "9"
                                },
                                {
                                    "rang": "12",
                                    "USERNEV": "BEATRIXK",
                                    "NEV": "Kerényi Beatrix",
                                    "db": "9"
                                },
                                {
                                    "rang": "12",
                                    "USERNEV": "bence",
                                    "NEV": "Győrffy Bence",
                                    "db": "9"
                                },
                                {
                                    "rang": "12",
                                    "USERNEV": "ANIKOS",
                                    "NEV": "Simon Anikó",
                                    "db": "9"
                                },
                                {
                                    "rang": "12",
                                    "USERNEV": "katalin",
                                    "NEV": "Horváth Katalin",
                                    "db": "9"
                                },
                                {
                                    "rang": "12",
                                    "USERNEV": "katka",
                                    "NEV": "Kovács Katalin",
                                    "db": "9"
                                },
                                {
                                    "rang": "12",
                                    "USERNEV": "norbert4",
                                    "NEV": "Mile Norbert",
                                    "db": "9"
                                },
                                {
                                    "rang": "12",
                                    "USERNEV": "szilvia1",
                                    "NEV": "Tari Szilvia",
                                    "db": "9"
                                },
                                {
                                    "rang": "12",
                                    "USERNEV": "TAMASF",
                                    "NEV": "Fényes Tamás",
                                    "db": "9"
                                },
                                {
                                    "rang": "23",
                                    "USERNEV": "tunde",
                                    "NEV": "Turcsik Tünde",
                                    "db": "8"
                                },
                                {
                                    "rang": "23",
                                    "USERNEV": "ROBERTI",
                                    "NEV": "Iván Róbert",
                                    "db": "8"
                                },
                                {
                                    "rang": "23",
                                    "USERNEV": "MATYASS",
                                    "NEV": "Szilágyi Mátyás",
                                    "db": "8"
                                },
                                {
                                    "rang": "23",
                                    "USERNEV": "krisztina",
                                    "NEV": "Szedlár Krisztina",
                                    "db": "8"
                                },
                                {
                                    "rang": "23",
                                    "USERNEV": "maria1",
                                    "NEV": "Baráth Mária",
                                    "db": "8"
                                },
                                {
                                    "rang": "23",
                                    "USERNEV": "fruzsina4",
                                    "NEV": "Frank Fruzsina",
                                    "db": "8"
                                },
                                {
                                    "rang": "23",
                                    "USERNEV": "GYORGYO",
                                    "NEV": "Oroszi György",
                                    "db": "8"
                                },
                                {
                                    "rang": "23",
                                    "USERNEV": "anett3",
                                    "NEV": "Pivarcsi Anett",
                                    "db": "8"
                                },
                                {
                                    "rang": "23",
                                    "USERNEV": "andras3",
                                    "NEV": "Vígh András",
                                    "db": "8"
                                },
                                {
                                    "rang": "23",
                                    "USERNEV": "bernadett2",
                                    "NEV": "Kovács Bernadett",
                                    "db": "8"
                                },
                                {
                                    "rang": "23",
                                    "USERNEV": "csongor3",
                                    "NEV": "Nagymihály Csongor",
                                    "db": "8"
                                },
                                {
                                    "rang": "34",
                                    "USERNEV": "daniel1",
                                    "NEV": "Keszler Dániel",
                                    "db": "7"
                                },
                                {
                                    "rang": "34",
                                    "USERNEV": "edit",
                                    "NEV": "Bittmann Edit",
                                    "db": "7"
                                },
                                {
                                    "rang": "34",
                                    "USERNEV": "emese",
                                    "NEV": "Kuruc Emese",
                                    "db": "7"
                                },
                                {
                                    "rang": "34",
                                    "USERNEV": "BERNADETTO",
                                    "NEV": "Orbán Bernadett",
                                    "db": "7"
                                },
                                {
                                    "rang": "34",
                                    "USERNEV": "bernadett1",
                                    "NEV": "Simon Bernadett",
                                    "db": "7"
                                },
                                {
                                    "rang": "34",
                                    "USERNEV": "alexandra",
                                    "NEV": "Bagóczki Alexandra",
                                    "db": "7"
                                },
                                {
                                    "rang": "34",
                                    "USERNEV": "andras21",
                                    "NEV": "Molnár András",
                                    "db": "7"
                                },
                                {
                                    "rang": "34",
                                    "USERNEV": "arpad2",
                                    "NEV": "Ötvös Árpád",
                                    "db": "7"
                                },
                                {
                                    "rang": "34",
                                    "USERNEV": "ARPADH",
                                    "NEV": "Horváth Árpád",
                                    "db": "7"
                                },
                                {
                                    "rang": "34",
                                    "USERNEV": "imre1",
                                    "NEV": "Papp Imre",
                                    "db": "7"
                                },
                                {
                                    "rang": "34",
                                    "USERNEV": "GYONGYIK",
                                    "NEV": "Kornseé Gyöngyi",
                                    "db": "7"
                                },
                                {
                                    "rang": "34",
                                    "USERNEV": "kati",
                                    "NEV": "Zatykó Katalin",
                                    "db": "7"
                                },
                                {
                                    "rang": "34",
                                    "USERNEV": "JANOSG",
                                    "NEV": "Giliga János",
                                    "db": "7"
                                },
                                {
                                    "rang": "34",
                                    "USERNEV": "JOZSEFG",
                                    "NEV": "Gyuris József",
                                    "db": "7"
                                },
                                {
                                    "rang": "34",
                                    "USERNEV": "marton",
                                    "NEV": "Kalacsi Márton",
                                    "db": "7"
                                },
                                {
                                    "rang": "34",
                                    "USERNEV": "nikoletta4",
                                    "NEV": "Kő Nikoletta",
                                    "db": "7"
                                },
                                {
                                    "rang": "34",
                                    "USERNEV": "norbert2",
                                    "NEV": "Hegedűs Norbert",
                                    "db": "7"
                                },
                                {
                                    "rang": "34",
                                    "USERNEV": "SZABOLCSM",
                                    "NEV": "Miklós Szabolcs",
                                    "db": "7"
                                },
                                {
                                    "rang": "34",
                                    "USERNEV": "SZILARDS",
                                    "NEV": "Szalai Szilárd",
                                    "db": "7"
                                },
                                {
                                    "rang": "34",
                                    "USERNEV": "vivien3",
                                    "NEV": "Boros Vivien",
                                    "db": "7"
                                },
                                {
                                    "rang": "54",
                                    "USERNEV": "ZSOLTJ",
                                    "NEV": "Józsa Zsolt",
                                    "db": "6"
                                },
                                {
                                    "rang": "54",
                                    "USERNEV": "ZOLTANP",
                                    "NEV": "Pintér Zoltán",
                                    "db": "6"
                                },
                                {
                                    "rang": "54",
                                    "USERNEV": "ZSUZSAV",
                                    "NEV": "Vajda Zsuzsa",
                                    "db": "6"
                                },
                                {
                                    "rang": "54",
                                    "USERNEV": "veronika4",
                                    "NEV": "Tankó Veronika",
                                    "db": "6"
                                },
                                {
                                    "rang": "54",
                                    "USERNEV": "tihamer",
                                    "NEV": "Kazy Tihamér",
                                    "db": "6"
                                },
                                {
                                    "rang": "54",
                                    "USERNEV": "RENATAK",
                                    "NEV": "Kardos Renáta",
                                    "db": "6"
                                },
                                {
                                    "rang": "54",
                                    "USERNEV": "polla",
                                    "NEV": "Palágyi Polla",
                                    "db": "6"
                                },
                                {
                                    "rang": "54",
                                    "USERNEV": "peter3",
                                    "NEV": "Szalai Péter",
                                    "db": "6"
                                },
                                {
                                    "rang": "54",
                                    "USERNEV": "MONIKAM",
                                    "NEV": "Mohos Mónika",
                                    "db": "6"
                                },
                                {
                                    "rang": "54",
                                    "USERNEV": "kriszti",
                                    "NEV": "Horváth Krisztina",
                                    "db": "6"
                                },
                                {
                                    "rang": "54",
                                    "USERNEV": "LASZLON",
                                    "NEV": "Nagy László",
                                    "db": "6"
                                },
                                {
                                    "rang": "54",
                                    "USERNEV": "krisztina1",
                                    "NEV": "Bori Krisztina",
                                    "db": "6"
                                },
                                {
                                    "rang": "54",
                                    "USERNEV": "KRISZTIANM",
                                    "NEV": "Mogyródi Krisztián",
                                    "db": "6"
                                },
                                {
                                    "rang": "54",
                                    "USERNEV": "lala",
                                    "NEV": "Nagymihály Lajos",
                                    "db": "6"
                                },
                                {
                                    "rang": "54",
                                    "USERNEV": "katalin4",
                                    "NEV": "Kertész Katalin",
                                    "db": "6"
                                },
                                {
                                    "rang": "54",
                                    "USERNEV": "gabor1",
                                    "NEV": "Köves Gábor",
                                    "db": "6"
                                },
                                {
                                    "rang": "54",
                                    "USERNEV": "gabriella1",
                                    "NEV": "Nagy Gabriella",
                                    "db": "6"
                                },
                                {
                                    "rang": "54",
                                    "USERNEV": "ARPADM",
                                    "NEV": "Móricz Árpád",
                                    "db": "6"
                                },
                                {
                                    "rang": "54",
                                    "USERNEV": "ANNAMARIAR",
                                    "NEV": "Regős Annamária",
                                    "db": "6"
                                },
                                {
                                    "rang": "54",
                                    "USERNEV": "aron2",
                                    "NEV": "Jakab Áron",
                                    "db": "6"
                                },
                                {
                                    "rang": "54",
                                    "USERNEV": "attila1",
                                    "NEV": "Gulyás Attila",
                                    "db": "6"
                                },
                                {
                                    "rang": "54",
                                    "USERNEV": "andrea",
                                    "NEV": "Kiss Andrea",
                                    "db": "6"
                                },
                                {
                                    "rang": "54",
                                    "USERNEV": "AGNESH",
                                    "NEV": "Horváth Ágnes",
                                    "db": "6"
                                },
                                {
                                    "rang": "54",
                                    "USERNEV": "adam4",
                                    "NEV": "Bieniek Ádám",
                                    "db": "6"
                                },
                                {
                                    "rang": "54",
                                    "USERNEV": "beata4",
                                    "NEV": "Bagi Beáta",
                                    "db": "6"
                                },
                                {
                                    "rang": "54",
                                    "USERNEV": "BENCEB",
                                    "NEV": "Bajusz Bence",
                                    "db": "6"
                                },
                                {
                                    "rang": "54",
                                    "USERNEV": "bertalan",
                                    "NEV": "Csiger Bertalan",
                                    "db": "6"
                                },
                                {
                                    "rang": "54",
                                    "USERNEV": "BEATRIXS",
                                    "NEV": "Szekendi Beatrix",
                                    "db": "6"
                                },
                                {
                                    "rang": "54",
                                    "USERNEV": "BELAF",
                                    "NEV": "Farkas Béla",
                                    "db": "6"
                                },
                                {
                                    "rang": "54",
                                    "USERNEV": "balazs3",
                                    "NEV": "Bakódy Balázs",
                                    "db": "6"
                                },
                                {
                                    "rang": "54",
                                    "USERNEV": "balazs1",
                                    "NEV": "Bozsik Balázs",
                                    "db": "6"
                                },
                                {
                                    "rang": "54",
                                    "USERNEV": "david1",
                                    "NEV": "Sobják Dávid",
                                    "db": "6"
                                },
                                {
                                    "rang": "54",
                                    "USERNEV": "denes",
                                    "NEV": "Tömböly Dénes",
                                    "db": "6"
                                },
                                {
                                    "rang": "87",
                                    "USERNEV": "dora3",
                                    "NEV": "Sarodi Dóra",
                                    "db": "5"
                                },
                                {
                                    "rang": "87",
                                    "USERNEV": "EVAV",
                                    "NEV": "Viktor Éva",
                                    "db": "5"
                                },
                                {
                                    "rang": "87",
                                    "USERNEV": "brigitta",
                                    "NEV": "Székely Brigitta",
                                    "db": "5"
                                },
                                {
                                    "rang": "87",
                                    "USERNEV": "brigitta3",
                                    "NEV": "Pataki Brigitta",
                                    "db": "5"
                                },
                                {
                                    "rang": "87",
                                    "USERNEV": "agnes",
                                    "NEV": "Lengyel Ágnes",
                                    "db": "5"
                                },
                                {
                                    "rang": "87",
                                    "USERNEV": "ANDRASE",
                                    "NEV": "Erdei András",
                                    "db": "5"
                                },
                                {
                                    "rang": "87",
                                    "USERNEV": "andi",
                                    "NEV": "Maródi Andrea",
                                    "db": "5"
                                },
                                {
                                    "rang": "87",
                                    "USERNEV": "andras2",
                                    "NEV": "Tóth András",
                                    "db": "5"
                                },
                                {
                                    "rang": "87",
                                    "USERNEV": "gusztav",
                                    "NEV": "Bárci Gusztáv",
                                    "db": "5"
                                },
                                {
                                    "rang": "87",
                                    "USERNEV": "julia",
                                    "NEV": "Tóth Júlia",
                                    "db": "5"
                                },
                                {
                                    "rang": "87",
                                    "USERNEV": "janos3",
                                    "NEV": "Harangozó János",
                                    "db": "5"
                                },
                                {
                                    "rang": "87",
                                    "USERNEV": "jozsef2",
                                    "NEV": "Vajda József",
                                    "db": "5"
                                },
                                {
                                    "rang": "87",
                                    "USERNEV": "KRISZTINAG",
                                    "NEV": "Gyárfás Krisztina",
                                    "db": "5"
                                },
                                {
                                    "rang": "87",
                                    "USERNEV": "laszlo2",
                                    "NEV": "Móra László",
                                    "db": "5"
                                },
                                {
                                    "rang": "87",
                                    "USERNEV": "mark",
                                    "NEV": "Kispál Márk",
                                    "db": "5"
                                },
                                {
                                    "rang": "87",
                                    "USERNEV": "MIHALYJ",
                                    "NEV": "Juhász Mihály",
                                    "db": "5"
                                },
                                {
                                    "rang": "87",
                                    "USERNEV": "pal",
                                    "NEV": "Barabás Pál",
                                    "db": "5"
                                },
                                {
                                    "rang": "87",
                                    "USERNEV": "norbert",
                                    "NEV": "Szűcs Norbert",
                                    "db": "5"
                                },
                                {
                                    "rang": "87",
                                    "USERNEV": "PETERB",
                                    "NEV": "Berendi Péter",
                                    "db": "5"
                                },
                                {
                                    "rang": "87",
                                    "USERNEV": "RENATAS",
                                    "NEV": "Szirmai Renáta",
                                    "db": "5"
                                },
                                {
                                    "rang": "87",
                                    "USERNEV": "SEBASTIANF",
                                    "NEV": "Foltényi Sebastián",
                                    "db": "5"
                                },
                                {
                                    "rang": "87",
                                    "USERNEV": "reka4",
                                    "NEV": "Szikszai Réka",
                                    "db": "5"
                                },
                                {
                                    "rang": "87",
                                    "USERNEV": "timea2",
                                    "NEV": "Dusha Tímea",
                                    "db": "5"
                                },
                                {
                                    "rang": "87",
                                    "USERNEV": "valentin",
                                    "NEV": "Feró Valentin",
                                    "db": "5"
                                },
                                {
                                    "rang": "87",
                                    "USERNEV": "sandor3",
                                    "NEV": "Farkas Sándor",
                                    "db": "5"
                                },
                                {
                                    "rang": "112",
                                    "USERNEV": "sandor4",
                                    "NEV": "Nagy Sándor",
                                    "db": "4"
                                },
                                {
                                    "rang": "112",
                                    "USERNEV": "VIKTORIAU",
                                    "NEV": "Urbán Viktoria",
                                    "db": "4"
                                },
                                {
                                    "rang": "112",
                                    "USERNEV": "tamas",
                                    "NEV": "Antal Tamás",
                                    "db": "4"
                                },
                                {
                                    "rang": "112",
                                    "USERNEV": "sandor",
                                    "NEV": "Karasz Sándor",
                                    "db": "4"
                                },
                                {
                                    "rang": "112",
                                    "USERNEV": "roland",
                                    "NEV": "Tóth Roland",
                                    "db": "4"
                                },
                                {
                                    "rang": "112",
                                    "USERNEV": "roland1",
                                    "NEV": "Ferencz Roland",
                                    "db": "4"
                                },
                                {
                                    "rang": "112",
                                    "USERNEV": "sebestyen",
                                    "NEV": "Rab Sebestyén",
                                    "db": "4"
                                },
                                {
                                    "rang": "112",
                                    "USERNEV": "robert2",
                                    "NEV": "Patay Róbert",
                                    "db": "4"
                                },
                                {
                                    "rang": "112",
                                    "USERNEV": "rajmond4",
                                    "NEV": "Rácz Rajmond",
                                    "db": "4"
                                },
                                {
                                    "rang": "112",
                                    "USERNEV": "zsolt1",
                                    "NEV": "Pulai Zsolt",
                                    "db": "4"
                                },
                                {
                                    "rang": "112",
                                    "USERNEV": "zsuzsa3",
                                    "NEV": "Varsányi Zsuzsa",
                                    "db": "4"
                                },
                                {
                                    "rang": "112",
                                    "USERNEV": "zsuzsanna",
                                    "NEV": "Barta Zsuzsanna",
                                    "db": "4"
                                },
                                {
                                    "rang": "112",
                                    "USERNEV": "nikolett3",
                                    "NEV": "Horváth Nikolett",
                                    "db": "4"
                                },
                                {
                                    "rang": "112",
                                    "USERNEV": "peter1",
                                    "NEV": "Kozma Péter",
                                    "db": "4"
                                },
                                {
                                    "rang": "112",
                                    "USERNEV": "peter2",
                                    "NEV": "Bozsó Péter",
                                    "db": "4"
                                },
                                {
                                    "rang": "112",
                                    "USERNEV": "NIKOLETTAT",
                                    "NEV": "Tatár Nikoletta",
                                    "db": "4"
                                },
                                {
                                    "rang": "112",
                                    "USERNEV": "MARKH",
                                    "NEV": "Horváth Márk",
                                    "db": "4"
                                },
                                {
                                    "rang": "112",
                                    "USERNEV": "LASZLOA",
                                    "NEV": "Antal László",
                                    "db": "4"
                                },
                                {
                                    "rang": "112",
                                    "USERNEV": "JANOSP",
                                    "NEV": "Pálinkás János",
                                    "db": "4"
                                },
                                {
                                    "rang": "112",
                                    "USERNEV": "julianna4",
                                    "NEV": "Szabó Julianna",
                                    "db": "4"
                                },
                                {
                                    "rang": "112",
                                    "USERNEV": "eva2",
                                    "NEV": "Perlinger Éva",
                                    "db": "4"
                                },
                                {
                                    "rang": "112",
                                    "USERNEV": "georgij",
                                    "NEV": "Nyíri Georgij",
                                    "db": "4"
                                },
                                {
                                    "rang": "112",
                                    "USERNEV": "gabor4",
                                    "NEV": "Telek Gábor",
                                    "db": "4"
                                },
                                {
                                    "rang": "112",
                                    "USERNEV": "istvan1",
                                    "NEV": "Vizi István",
                                    "db": "4"
                                },
                                {
                                    "rang": "112",
                                    "USERNEV": "ilona3",
                                    "NEV": "Bosnyák Ilona",
                                    "db": "4"
                                },
                                {
                                    "rang": "112",
                                    "USERNEV": "aniko4",
                                    "NEV": "Böröcz Anikó",
                                    "db": "4"
                                },
                                {
                                    "rang": "112",
                                    "USERNEV": "anita",
                                    "NEV": "Hamvay-Kovács Anita",
                                    "db": "4"
                                },
                                {
                                    "rang": "112",
                                    "USERNEV": "andrea4",
                                    "NEV": "Neizer Andrea",
                                    "db": "4"
                                },
                                {
                                    "rang": "112",
                                    "USERNEV": "ATTILAO",
                                    "NEV": "Opra Attila",
                                    "db": "4"
                                },
                                {
                                    "rang": "112",
                                    "USERNEV": "ferenc1",
                                    "NEV": "Orosz Ferenc",
                                    "db": "4"
                                },
                                {
                                    "rang": "112",
                                    "USERNEV": "ESZTERE",
                                    "NEV": "Érsek Eszter",
                                    "db": "4"
                                },
                                {
                                    "rang": "112",
                                    "USERNEV": "eszter",
                                    "NEV": "Molnár Eszter",
                                    "db": "4"
                                },
                                {
                                    "rang": "112",
                                    "USERNEV": "debora",
                                    "NEV": "Barna Debóra",
                                    "db": "4"
                                },
                                {
                                    "rang": "145",
                                    "USERNEV": "eszter4",
                                    "NEV": "Fülöp Eszter",
                                    "db": "3"
                                },
                                {
                                    "rang": "145",
                                    "USERNEV": "balint",
                                    "NEV": "Horváth Bálint",
                                    "db": "3"
                                },
                                {
                                    "rang": "145",
                                    "USERNEV": "ANDREAT",
                                    "NEV": "Tornyos Andrea",
                                    "db": "3"
                                },
                                {
                                    "rang": "145",
                                    "USERNEV": "aniko",
                                    "NEV": "Tóth Anikó",
                                    "db": "3"
                                },
                                {
                                    "rang": "145",
                                    "USERNEV": "attila4",
                                    "NEV": "Baróti Attila",
                                    "db": "3"
                                },
                                {
                                    "rang": "145",
                                    "USERNEV": "attila",
                                    "NEV": "Csóti Attila",
                                    "db": "3"
                                },
                                {
                                    "rang": "145",
                                    "USERNEV": "andras4",
                                    "NEV": "Back András",
                                    "db": "3"
                                },
                                {
                                    "rang": "145",
                                    "USERNEV": "agnes3",
                                    "NEV": "Hartyánszky Ágnes",
                                    "db": "3"
                                },
                                {
                                    "rang": "145",
                                    "USERNEV": "adam1",
                                    "NEV": "Kiss Ádám",
                                    "db": "3"
                                },
                                {
                                    "rang": "145",
                                    "USERNEV": "AGNESK",
                                    "NEV": "Kovács Ágnes",
                                    "db": "3"
                                },
                                {
                                    "rang": "145",
                                    "USERNEV": "aladar",
                                    "NEV": "Dunai Aladár",
                                    "db": "3"
                                },
                                {
                                    "rang": "145",
                                    "USERNEV": "henrik3",
                                    "NEV": "Nádudvari Henrik",
                                    "db": "3"
                                },
                                {
                                    "rang": "145",
                                    "USERNEV": "IBOLYAA",
                                    "NEV": "Andor Ibolya",
                                    "db": "3"
                                },
                                {
                                    "rang": "145",
                                    "USERNEV": "istvan",
                                    "NEV": "Soós István",
                                    "db": "3"
                                },
                                {
                                    "rang": "145",
                                    "USERNEV": "klaudia2",
                                    "NEV": "Bakó Klaudia",
                                    "db": "3"
                                },
                                {
                                    "rang": "145",
                                    "USERNEV": "kornel4",
                                    "NEV": "Lukács Kornél",
                                    "db": "3"
                                },
                                {
                                    "rang": "145",
                                    "USERNEV": "jozsef",
                                    "NEV": "Gergely József",
                                    "db": "3"
                                },
                                {
                                    "rang": "145",
                                    "USERNEV": "JUDITH",
                                    "NEV": "Hídasi Judit",
                                    "db": "3"
                                },
                                {
                                    "rang": "145",
                                    "USERNEV": "MATEK",
                                    "NEV": "Koza Máté",
                                    "db": "3"
                                },
                                {
                                    "rang": "145",
                                    "USERNEV": "lajos",
                                    "NEV": "Kiss Lajos",
                                    "db": "3"
                                },
                                {
                                    "rang": "145",
                                    "USERNEV": "NANDORF",
                                    "NEV": "Fő Nándor",
                                    "db": "3"
                                },
                                {
                                    "rang": "145",
                                    "USERNEV": "miklos2",
                                    "NEV": "Gondos Miklós",
                                    "db": "3"
                                },
                                {
                                    "rang": "145",
                                    "USERNEV": "MIKLOSB",
                                    "NEV": "Balla Miklós",
                                    "db": "3"
                                },
                                {
                                    "rang": "145",
                                    "USERNEV": "norbert5",
                                    "NEV": "Béres Norbert",
                                    "db": "3"
                                },
                                {
                                    "rang": "145",
                                    "USERNEV": "ZOLTANT",
                                    "NEV": "Tóth Zoltán",
                                    "db": "3"
                                },
                                {
                                    "rang": "145",
                                    "USERNEV": "zsuzsa",
                                    "NEV": "Pusztai Zsuzsanna",
                                    "db": "3"
                                },
                                {
                                    "rang": "145",
                                    "USERNEV": "roza2",
                                    "NEV": "Bucskó Róza",
                                    "db": "3"
                                },
                                {
                                    "rang": "172",
                                    "USERNEV": "ROBERTP",
                                    "NEV": "Pásztor Róbert",
                                    "db": "2"
                                },
                                {
                                    "rang": "172",
                                    "USERNEV": "VIKTORK",
                                    "NEV": "Keresztúri Viktor",
                                    "db": "2"
                                },
                                {
                                    "rang": "172",
                                    "USERNEV": "tibor",
                                    "NEV": "Gombos Tibor",
                                    "db": "2"
                                },
                                {
                                    "rang": "172",
                                    "USERNEV": "tamara2",
                                    "NEV": "Miklós Tamara",
                                    "db": "2"
                                },
                                {
                                    "rang": "172",
                                    "USERNEV": "zoltan",
                                    "NEV": "Fodor Zoltán",
                                    "db": "2"
                                },
                                {
                                    "rang": "172",
                                    "USERNEV": "zsofi1",
                                    "NEV": "Molnár Zsófi",
                                    "db": "2"
                                },
                                {
                                    "rang": "172",
                                    "USERNEV": "matyas2",
                                    "NEV": "Botka Mátyás",
                                    "db": "2"
                                },
                                {
                                    "rang": "172",
                                    "USERNEV": "julia4",
                                    "NEV": "Nagy Júlia",
                                    "db": "2"
                                },
                                {
                                    "rang": "172",
                                    "USERNEV": "kristof4",
                                    "NEV": "Poprádi Kristóf",
                                    "db": "2"
                                },
                                {
                                    "rang": "172",
                                    "USERNEV": "ISTVANV",
                                    "NEV": "Varga István",
                                    "db": "2"
                                },
                                {
                                    "rang": "172",
                                    "USERNEV": "imre",
                                    "NEV": "Búza Imre",
                                    "db": "2"
                                },
                                {
                                    "rang": "172",
                                    "USERNEV": "adam3",
                                    "NEV": "Barkóci Ádám",
                                    "db": "2"
                                },
                                {
                                    "rang": "172",
                                    "USERNEV": "annamaria1",
                                    "NEV": "Szűcs Annamária",
                                    "db": "2"
                                },
                                {
                                    "rang": "172",
                                    "USERNEV": "balint2",
                                    "NEV": "Vukasinovity Bálint",
                                    "db": "2"
                                },
                                {
                                    "rang": "172",
                                    "USERNEV": "balu",
                                    "NEV": "Endresz Bálint",
                                    "db": "2"
                                },
                                {
                                    "rang": "172",
                                    "USERNEV": "eva",
                                    "NEV": "Enyedi Éva",
                                    "db": "2"
                                },
                                {
                                    "rang": "188",
                                    "USERNEV": "david4",
                                    "NEV": "Berta Dávid",
                                    "db": "1"
                                },
                                {
                                    "rang": "188",
                                    "USERNEV": "ANDRASN",
                                    "NEV": "Nagy András",
                                    "db": "1"
                                },
                                {
                                    "rang": "188",
                                    "USERNEV": "andrea3",
                                    "NEV": "Szomor Andrea",
                                    "db": "1"
                                },
                                {
                                    "rang": "188",
                                    "USERNEV": "gabriella10",
                                    "NEV": "Vida Gabriella",
                                    "db": "1"
                                },
                                {
                                    "rang": "188",
                                    "USERNEV": "laszlo1",
                                    "NEV": "Farkas László",
                                    "db": "1"
                                },
                                {
                                    "rang": "188",
                                    "USERNEV": "tibor2",
                                    "NEV": "Dániel Tibor",
                                    "db": "1"
                                },
                                {
                                    "rang": "188",
                                    "USERNEV": "timea",
                                    "NEV": "Papós Tímea",
                                    "db": "1"
                                },
                                {
                                    "rang": "188",
                                    "USERNEV": "szabolcs",
                                    "NEV": "Bodor Szabolcs",
                                    "db": "1"
                                }
                            ]
                        },
                        "text/html": [
                            "<table>",
                            "<tr><th>rang</th><th>USERNEV</th><th>NEV</th><th>db</th></tr>",
                            "<tr><td>1</td><td>andras41</td><td>Komjáti András</td><td>13</td></tr>",
                            "<tr><td>1</td><td>ARONK</td><td>Kelemen Áron</td><td>13</td></tr>",
                            "<tr><td>3</td><td>krisztian4</td><td>Czérna Krisztián</td><td>12</td></tr>",
                            "<tr><td>3</td><td>peter4</td><td>Bíró Péter</td><td>12</td></tr>",
                            "<tr><td>3</td><td>sara</td><td>Farkas Sára</td><td>12</td></tr>",
                            "<tr><td>3</td><td>zoltan4</td><td>Barna Zoltán</td><td>12</td></tr>",
                            "<tr><td>7</td><td>kata</td><td>Gondos Katalin</td><td>10</td></tr>",
                            "<tr><td>7</td><td>akos</td><td>Bíró Ákos</td><td>10</td></tr>",
                            "<tr><td>7</td><td>balazs2</td><td>Szűcs Balázs</td><td>10</td></tr>",
                            "<tr><td>7</td><td>balint1</td><td>Molnár Bálint</td><td>10</td></tr>",
                            "<tr><td>7</td><td>eszter2</td><td>Balogh Eszter</td><td>10</td></tr>",
                            "<tr><td>12</td><td>dani</td><td>Vörös Dániel</td><td>9</td></tr>",
                            "<tr><td>12</td><td>daniel</td><td>Rácz Dániel</td><td>9</td></tr>",
                            "<tr><td>12</td><td>david</td><td>Ambrus Dávid</td><td>9</td></tr>",
                            "<tr><td>12</td><td>BEATRIXK</td><td>Kerényi Beatrix</td><td>9</td></tr>",
                            "<tr><td>12</td><td>bence</td><td>Győrffy Bence</td><td>9</td></tr>",
                            "<tr><td>12</td><td>ANIKOS</td><td>Simon Anikó</td><td>9</td></tr>",
                            "<tr><td>12</td><td>katalin</td><td>Horváth Katalin</td><td>9</td></tr>",
                            "<tr><td>12</td><td>katka</td><td>Kovács Katalin</td><td>9</td></tr>",
                            "<tr><td>12</td><td>norbert4</td><td>Mile Norbert</td><td>9</td></tr>",
                            "<tr><td>12</td><td>szilvia1</td><td>Tari Szilvia</td><td>9</td></tr>",
                            "<tr><td>12</td><td>TAMASF</td><td>Fényes Tamás</td><td>9</td></tr>",
                            "<tr><td>23</td><td>tunde</td><td>Turcsik Tünde</td><td>8</td></tr>",
                            "<tr><td>23</td><td>ROBERTI</td><td>Iván Róbert</td><td>8</td></tr>",
                            "<tr><td>23</td><td>MATYASS</td><td>Szilágyi Mátyás</td><td>8</td></tr>",
                            "<tr><td>23</td><td>krisztina</td><td>Szedlár Krisztina</td><td>8</td></tr>",
                            "<tr><td>23</td><td>maria1</td><td>Baráth Mária</td><td>8</td></tr>",
                            "<tr><td>23</td><td>fruzsina4</td><td>Frank Fruzsina</td><td>8</td></tr>",
                            "<tr><td>23</td><td>GYORGYO</td><td>Oroszi György</td><td>8</td></tr>",
                            "<tr><td>23</td><td>anett3</td><td>Pivarcsi Anett</td><td>8</td></tr>",
                            "<tr><td>23</td><td>andras3</td><td>Vígh András</td><td>8</td></tr>",
                            "<tr><td>23</td><td>bernadett2</td><td>Kovács Bernadett</td><td>8</td></tr>",
                            "<tr><td>23</td><td>csongor3</td><td>Nagymihály Csongor</td><td>8</td></tr>",
                            "<tr><td>34</td><td>daniel1</td><td>Keszler Dániel</td><td>7</td></tr>",
                            "<tr><td>34</td><td>edit</td><td>Bittmann Edit</td><td>7</td></tr>",
                            "<tr><td>34</td><td>emese</td><td>Kuruc Emese</td><td>7</td></tr>",
                            "<tr><td>34</td><td>BERNADETTO</td><td>Orbán Bernadett</td><td>7</td></tr>",
                            "<tr><td>34</td><td>bernadett1</td><td>Simon Bernadett</td><td>7</td></tr>",
                            "<tr><td>34</td><td>alexandra</td><td>Bagóczki Alexandra</td><td>7</td></tr>",
                            "<tr><td>34</td><td>andras21</td><td>Molnár András</td><td>7</td></tr>",
                            "<tr><td>34</td><td>arpad2</td><td>Ötvös Árpád</td><td>7</td></tr>",
                            "<tr><td>34</td><td>ARPADH</td><td>Horváth Árpád</td><td>7</td></tr>",
                            "<tr><td>34</td><td>imre1</td><td>Papp Imre</td><td>7</td></tr>",
                            "<tr><td>34</td><td>GYONGYIK</td><td>Kornseé Gyöngyi</td><td>7</td></tr>",
                            "<tr><td>34</td><td>kati</td><td>Zatykó Katalin</td><td>7</td></tr>",
                            "<tr><td>34</td><td>JANOSG</td><td>Giliga János</td><td>7</td></tr>",
                            "<tr><td>34</td><td>JOZSEFG</td><td>Gyuris József</td><td>7</td></tr>",
                            "<tr><td>34</td><td>marton</td><td>Kalacsi Márton</td><td>7</td></tr>",
                            "<tr><td>34</td><td>nikoletta4</td><td>Kő Nikoletta</td><td>7</td></tr>",
                            "<tr><td>34</td><td>norbert2</td><td>Hegedűs Norbert</td><td>7</td></tr>",
                            "<tr><td>34</td><td>SZABOLCSM</td><td>Miklós Szabolcs</td><td>7</td></tr>",
                            "<tr><td>34</td><td>SZILARDS</td><td>Szalai Szilárd</td><td>7</td></tr>",
                            "<tr><td>34</td><td>vivien3</td><td>Boros Vivien</td><td>7</td></tr>",
                            "<tr><td>54</td><td>ZSOLTJ</td><td>Józsa Zsolt</td><td>6</td></tr>",
                            "<tr><td>54</td><td>ZOLTANP</td><td>Pintér Zoltán</td><td>6</td></tr>",
                            "<tr><td>54</td><td>ZSUZSAV</td><td>Vajda Zsuzsa</td><td>6</td></tr>",
                            "<tr><td>54</td><td>veronika4</td><td>Tankó Veronika</td><td>6</td></tr>",
                            "<tr><td>54</td><td>tihamer</td><td>Kazy Tihamér</td><td>6</td></tr>",
                            "<tr><td>54</td><td>RENATAK</td><td>Kardos Renáta</td><td>6</td></tr>",
                            "<tr><td>54</td><td>polla</td><td>Palágyi Polla</td><td>6</td></tr>",
                            "<tr><td>54</td><td>peter3</td><td>Szalai Péter</td><td>6</td></tr>",
                            "<tr><td>54</td><td>MONIKAM</td><td>Mohos Mónika</td><td>6</td></tr>",
                            "<tr><td>54</td><td>kriszti</td><td>Horváth Krisztina</td><td>6</td></tr>",
                            "<tr><td>54</td><td>LASZLON</td><td>Nagy László</td><td>6</td></tr>",
                            "<tr><td>54</td><td>krisztina1</td><td>Bori Krisztina</td><td>6</td></tr>",
                            "<tr><td>54</td><td>KRISZTIANM</td><td>Mogyródi Krisztián</td><td>6</td></tr>",
                            "<tr><td>54</td><td>lala</td><td>Nagymihály Lajos</td><td>6</td></tr>",
                            "<tr><td>54</td><td>katalin4</td><td>Kertész Katalin</td><td>6</td></tr>",
                            "<tr><td>54</td><td>gabor1</td><td>Köves Gábor</td><td>6</td></tr>",
                            "<tr><td>54</td><td>gabriella1</td><td>Nagy Gabriella</td><td>6</td></tr>",
                            "<tr><td>54</td><td>ARPADM</td><td>Móricz Árpád</td><td>6</td></tr>",
                            "<tr><td>54</td><td>ANNAMARIAR</td><td>Regős Annamária</td><td>6</td></tr>",
                            "<tr><td>54</td><td>aron2</td><td>Jakab Áron</td><td>6</td></tr>",
                            "<tr><td>54</td><td>attila1</td><td>Gulyás Attila</td><td>6</td></tr>",
                            "<tr><td>54</td><td>andrea</td><td>Kiss Andrea</td><td>6</td></tr>",
                            "<tr><td>54</td><td>AGNESH</td><td>Horváth Ágnes</td><td>6</td></tr>",
                            "<tr><td>54</td><td>adam4</td><td>Bieniek Ádám</td><td>6</td></tr>",
                            "<tr><td>54</td><td>beata4</td><td>Bagi Beáta</td><td>6</td></tr>",
                            "<tr><td>54</td><td>BENCEB</td><td>Bajusz Bence</td><td>6</td></tr>",
                            "<tr><td>54</td><td>bertalan</td><td>Csiger Bertalan</td><td>6</td></tr>",
                            "<tr><td>54</td><td>BEATRIXS</td><td>Szekendi Beatrix</td><td>6</td></tr>",
                            "<tr><td>54</td><td>BELAF</td><td>Farkas Béla</td><td>6</td></tr>",
                            "<tr><td>54</td><td>balazs3</td><td>Bakódy Balázs</td><td>6</td></tr>",
                            "<tr><td>54</td><td>balazs1</td><td>Bozsik Balázs</td><td>6</td></tr>",
                            "<tr><td>54</td><td>david1</td><td>Sobják Dávid</td><td>6</td></tr>",
                            "<tr><td>54</td><td>denes</td><td>Tömböly Dénes</td><td>6</td></tr>",
                            "<tr><td>87</td><td>dora3</td><td>Sarodi Dóra</td><td>5</td></tr>",
                            "<tr><td>87</td><td>EVAV</td><td>Viktor Éva</td><td>5</td></tr>",
                            "<tr><td>87</td><td>brigitta</td><td>Székely Brigitta</td><td>5</td></tr>",
                            "<tr><td>87</td><td>brigitta3</td><td>Pataki Brigitta</td><td>5</td></tr>",
                            "<tr><td>87</td><td>agnes</td><td>Lengyel Ágnes</td><td>5</td></tr>",
                            "<tr><td>87</td><td>ANDRASE</td><td>Erdei András</td><td>5</td></tr>",
                            "<tr><td>87</td><td>andi</td><td>Maródi Andrea</td><td>5</td></tr>",
                            "<tr><td>87</td><td>andras2</td><td>Tóth András</td><td>5</td></tr>",
                            "<tr><td>87</td><td>gusztav</td><td>Bárci Gusztáv</td><td>5</td></tr>",
                            "<tr><td>87</td><td>julia</td><td>Tóth Júlia</td><td>5</td></tr>",
                            "<tr><td>87</td><td>janos3</td><td>Harangozó János</td><td>5</td></tr>",
                            "<tr><td>87</td><td>jozsef2</td><td>Vajda József</td><td>5</td></tr>",
                            "<tr><td>87</td><td>KRISZTINAG</td><td>Gyárfás Krisztina</td><td>5</td></tr>",
                            "<tr><td>87</td><td>laszlo2</td><td>Móra László</td><td>5</td></tr>",
                            "<tr><td>87</td><td>mark</td><td>Kispál Márk</td><td>5</td></tr>",
                            "<tr><td>87</td><td>MIHALYJ</td><td>Juhász Mihály</td><td>5</td></tr>",
                            "<tr><td>87</td><td>pal</td><td>Barabás Pál</td><td>5</td></tr>",
                            "<tr><td>87</td><td>norbert</td><td>Szűcs Norbert</td><td>5</td></tr>",
                            "<tr><td>87</td><td>PETERB</td><td>Berendi Péter</td><td>5</td></tr>",
                            "<tr><td>87</td><td>RENATAS</td><td>Szirmai Renáta</td><td>5</td></tr>",
                            "<tr><td>87</td><td>SEBASTIANF</td><td>Foltényi Sebastián</td><td>5</td></tr>",
                            "<tr><td>87</td><td>reka4</td><td>Szikszai Réka</td><td>5</td></tr>",
                            "<tr><td>87</td><td>timea2</td><td>Dusha Tímea</td><td>5</td></tr>",
                            "<tr><td>87</td><td>valentin</td><td>Feró Valentin</td><td>5</td></tr>",
                            "<tr><td>87</td><td>sandor3</td><td>Farkas Sándor</td><td>5</td></tr>",
                            "<tr><td>112</td><td>sandor4</td><td>Nagy Sándor</td><td>4</td></tr>",
                            "<tr><td>112</td><td>VIKTORIAU</td><td>Urbán Viktoria</td><td>4</td></tr>",
                            "<tr><td>112</td><td>tamas</td><td>Antal Tamás</td><td>4</td></tr>",
                            "<tr><td>112</td><td>sandor</td><td>Karasz Sándor</td><td>4</td></tr>",
                            "<tr><td>112</td><td>roland</td><td>Tóth Roland</td><td>4</td></tr>",
                            "<tr><td>112</td><td>roland1</td><td>Ferencz Roland</td><td>4</td></tr>",
                            "<tr><td>112</td><td>sebestyen</td><td>Rab Sebestyén</td><td>4</td></tr>",
                            "<tr><td>112</td><td>robert2</td><td>Patay Róbert</td><td>4</td></tr>",
                            "<tr><td>112</td><td>rajmond4</td><td>Rácz Rajmond</td><td>4</td></tr>",
                            "<tr><td>112</td><td>zsolt1</td><td>Pulai Zsolt</td><td>4</td></tr>",
                            "<tr><td>112</td><td>zsuzsa3</td><td>Varsányi Zsuzsa</td><td>4</td></tr>",
                            "<tr><td>112</td><td>zsuzsanna</td><td>Barta Zsuzsanna</td><td>4</td></tr>",
                            "<tr><td>112</td><td>nikolett3</td><td>Horváth Nikolett</td><td>4</td></tr>",
                            "<tr><td>112</td><td>peter1</td><td>Kozma Péter</td><td>4</td></tr>",
                            "<tr><td>112</td><td>peter2</td><td>Bozsó Péter</td><td>4</td></tr>",
                            "<tr><td>112</td><td>NIKOLETTAT</td><td>Tatár Nikoletta</td><td>4</td></tr>",
                            "<tr><td>112</td><td>MARKH</td><td>Horváth Márk</td><td>4</td></tr>",
                            "<tr><td>112</td><td>LASZLOA</td><td>Antal László</td><td>4</td></tr>",
                            "<tr><td>112</td><td>JANOSP</td><td>Pálinkás János</td><td>4</td></tr>",
                            "<tr><td>112</td><td>julianna4</td><td>Szabó Julianna</td><td>4</td></tr>",
                            "<tr><td>112</td><td>eva2</td><td>Perlinger Éva</td><td>4</td></tr>",
                            "<tr><td>112</td><td>georgij</td><td>Nyíri Georgij</td><td>4</td></tr>",
                            "<tr><td>112</td><td>gabor4</td><td>Telek Gábor</td><td>4</td></tr>",
                            "<tr><td>112</td><td>istvan1</td><td>Vizi István</td><td>4</td></tr>",
                            "<tr><td>112</td><td>ilona3</td><td>Bosnyák Ilona</td><td>4</td></tr>",
                            "<tr><td>112</td><td>aniko4</td><td>Böröcz Anikó</td><td>4</td></tr>",
                            "<tr><td>112</td><td>anita</td><td>Hamvay-Kovács Anita</td><td>4</td></tr>",
                            "<tr><td>112</td><td>andrea4</td><td>Neizer Andrea</td><td>4</td></tr>",
                            "<tr><td>112</td><td>ATTILAO</td><td>Opra Attila</td><td>4</td></tr>",
                            "<tr><td>112</td><td>ferenc1</td><td>Orosz Ferenc</td><td>4</td></tr>",
                            "<tr><td>112</td><td>ESZTERE</td><td>Érsek Eszter</td><td>4</td></tr>",
                            "<tr><td>112</td><td>eszter</td><td>Molnár Eszter</td><td>4</td></tr>",
                            "<tr><td>112</td><td>debora</td><td>Barna Debóra</td><td>4</td></tr>",
                            "<tr><td>145</td><td>eszter4</td><td>Fülöp Eszter</td><td>3</td></tr>",
                            "<tr><td>145</td><td>balint</td><td>Horváth Bálint</td><td>3</td></tr>",
                            "<tr><td>145</td><td>ANDREAT</td><td>Tornyos Andrea</td><td>3</td></tr>",
                            "<tr><td>145</td><td>aniko</td><td>Tóth Anikó</td><td>3</td></tr>",
                            "<tr><td>145</td><td>attila4</td><td>Baróti Attila</td><td>3</td></tr>",
                            "<tr><td>145</td><td>attila</td><td>Csóti Attila</td><td>3</td></tr>",
                            "<tr><td>145</td><td>andras4</td><td>Back András</td><td>3</td></tr>",
                            "<tr><td>145</td><td>agnes3</td><td>Hartyánszky Ágnes</td><td>3</td></tr>",
                            "<tr><td>145</td><td>adam1</td><td>Kiss Ádám</td><td>3</td></tr>",
                            "<tr><td>145</td><td>AGNESK</td><td>Kovács Ágnes</td><td>3</td></tr>",
                            "<tr><td>145</td><td>aladar</td><td>Dunai Aladár</td><td>3</td></tr>",
                            "<tr><td>145</td><td>henrik3</td><td>Nádudvari Henrik</td><td>3</td></tr>",
                            "<tr><td>145</td><td>IBOLYAA</td><td>Andor Ibolya</td><td>3</td></tr>",
                            "<tr><td>145</td><td>istvan</td><td>Soós István</td><td>3</td></tr>",
                            "<tr><td>145</td><td>klaudia2</td><td>Bakó Klaudia</td><td>3</td></tr>",
                            "<tr><td>145</td><td>kornel4</td><td>Lukács Kornél</td><td>3</td></tr>",
                            "<tr><td>145</td><td>jozsef</td><td>Gergely József</td><td>3</td></tr>",
                            "<tr><td>145</td><td>JUDITH</td><td>Hídasi Judit</td><td>3</td></tr>",
                            "<tr><td>145</td><td>MATEK</td><td>Koza Máté</td><td>3</td></tr>",
                            "<tr><td>145</td><td>lajos</td><td>Kiss Lajos</td><td>3</td></tr>",
                            "<tr><td>145</td><td>NANDORF</td><td>Fő Nándor</td><td>3</td></tr>",
                            "<tr><td>145</td><td>miklos2</td><td>Gondos Miklós</td><td>3</td></tr>",
                            "<tr><td>145</td><td>MIKLOSB</td><td>Balla Miklós</td><td>3</td></tr>",
                            "<tr><td>145</td><td>norbert5</td><td>Béres Norbert</td><td>3</td></tr>",
                            "<tr><td>145</td><td>ZOLTANT</td><td>Tóth Zoltán</td><td>3</td></tr>",
                            "<tr><td>145</td><td>zsuzsa</td><td>Pusztai Zsuzsanna</td><td>3</td></tr>",
                            "<tr><td>145</td><td>roza2</td><td>Bucskó Róza</td><td>3</td></tr>",
                            "<tr><td>172</td><td>ROBERTP</td><td>Pásztor Róbert</td><td>2</td></tr>",
                            "<tr><td>172</td><td>VIKTORK</td><td>Keresztúri Viktor</td><td>2</td></tr>",
                            "<tr><td>172</td><td>tibor</td><td>Gombos Tibor</td><td>2</td></tr>",
                            "<tr><td>172</td><td>tamara2</td><td>Miklós Tamara</td><td>2</td></tr>",
                            "<tr><td>172</td><td>zoltan</td><td>Fodor Zoltán</td><td>2</td></tr>",
                            "<tr><td>172</td><td>zsofi1</td><td>Molnár Zsófi</td><td>2</td></tr>",
                            "<tr><td>172</td><td>matyas2</td><td>Botka Mátyás</td><td>2</td></tr>",
                            "<tr><td>172</td><td>julia4</td><td>Nagy Júlia</td><td>2</td></tr>",
                            "<tr><td>172</td><td>kristof4</td><td>Poprádi Kristóf</td><td>2</td></tr>",
                            "<tr><td>172</td><td>ISTVANV</td><td>Varga István</td><td>2</td></tr>",
                            "<tr><td>172</td><td>imre</td><td>Búza Imre</td><td>2</td></tr>",
                            "<tr><td>172</td><td>adam3</td><td>Barkóci Ádám</td><td>2</td></tr>",
                            "<tr><td>172</td><td>annamaria1</td><td>Szűcs Annamária</td><td>2</td></tr>",
                            "<tr><td>172</td><td>balint2</td><td>Vukasinovity Bálint</td><td>2</td></tr>",
                            "<tr><td>172</td><td>balu</td><td>Endresz Bálint</td><td>2</td></tr>",
                            "<tr><td>172</td><td>eva</td><td>Enyedi Éva</td><td>2</td></tr>",
                            "<tr><td>188</td><td>david4</td><td>Berta Dávid</td><td>1</td></tr>",
                            "<tr><td>188</td><td>ANDRASN</td><td>Nagy András</td><td>1</td></tr>",
                            "<tr><td>188</td><td>andrea3</td><td>Szomor Andrea</td><td>1</td></tr>",
                            "<tr><td>188</td><td>gabriella10</td><td>Vida Gabriella</td><td>1</td></tr>",
                            "<tr><td>188</td><td>laszlo1</td><td>Farkas László</td><td>1</td></tr>",
                            "<tr><td>188</td><td>tibor2</td><td>Dániel Tibor</td><td>1</td></tr>",
                            "<tr><td>188</td><td>timea</td><td>Papós Tímea</td><td>1</td></tr>",
                            "<tr><td>188</td><td>szabolcs</td><td>Bodor Szabolcs</td><td>1</td></tr>",
                            "</table>"
                        ]
                    }
                }
            ],
            "execution_count": 20
        },
        {
            "cell_type": "markdown",
            "source": [
                "Készítsen lekérdezést, amely megjeleníti, hogy szálláshelyenként, azon belül a pótágyak száma szerint hány főre foglaltak összesen (felnőtt + gyermek)!\n",
                "\n",
                "- Jelenjenek meg a részösszegek és a végösszeg is!"
            ],
            "metadata": {
                "azdata_cell_guid": "72054ace-51bf-4e5e-b51a-b09a391ffd5f"
            },
            "attachments": {}
        },
        {
            "cell_type": "code",
            "source": [
                "select  iif(szh.SZALLAS_ID is null, 'Végösszeg', cast(szh.SZALLAS_ID as nvarchar(20))) as SZALLAS_ID,\r\n",
                "        case grouping_id(szh.SZALLAS_ID, sz.POTAGY)\r\n",
                "            when 1 then 'Részösszeg'\r\n",
                "            when 3 then 'Végösszeg'\r\n",
                "            else cast(sz.POTAGY as nvarchar(15))\r\n",
                "            end as Potagy_szama, \r\n",
                "        sum(f.FELNOTT_SZAM + f.GYERMEK_SZAM) as 'Összesített'\r\n",
                "from szallashely szh join szoba sz on szh.SZALLAS_ID = sz.SZALLAS_FK JOIN Foglalas f on sz.SZOBA_ID = f.SZOBA_FK\r\n",
                "group by rollup(szh.SZALLAS_ID, sz.POTAGY)\r\n",
                ""
            ],
            "metadata": {
                "azdata_cell_guid": "db10d2f8-1bd9-4d7c-899e-51ae7a90157e",
                "language": "sql"
            },
            "outputs": [
                {
                    "output_type": "display_data",
                    "data": {
                        "text/html": "(44 rows affected)"
                    },
                    "metadata": {}
                },
                {
                    "output_type": "display_data",
                    "data": {
                        "text/html": "Total execution time: 00:00:00.044"
                    },
                    "metadata": {}
                },
                {
                    "output_type": "execute_result",
                    "metadata": {},
                    "execution_count": 24,
                    "data": {
                        "application/vnd.dataresource+json": {
                            "schema": {
                                "fields": [
                                    {
                                        "name": "SZALLAS_ID"
                                    },
                                    {
                                        "name": "Potagy_szama"
                                    },
                                    {
                                        "name": "Összesen"
                                    }
                                ]
                            },
                            "data": [
                                {
                                    "SZALLAS_ID": "1",
                                    "Potagy_szama": "0",
                                    "Összesen": "67"
                                },
                                {
                                    "SZALLAS_ID": "1",
                                    "Potagy_szama": "1",
                                    "Összesen": "99"
                                },
                                {
                                    "SZALLAS_ID": "1",
                                    "Potagy_szama": "Részösszeg",
                                    "Összesen": "166"
                                },
                                {
                                    "SZALLAS_ID": "2",
                                    "Potagy_szama": "0",
                                    "Összesen": "10"
                                },
                                {
                                    "SZALLAS_ID": "2",
                                    "Potagy_szama": "1",
                                    "Összesen": "31"
                                },
                                {
                                    "SZALLAS_ID": "2",
                                    "Potagy_szama": "2",
                                    "Összesen": "11"
                                },
                                {
                                    "SZALLAS_ID": "2",
                                    "Potagy_szama": "Részösszeg",
                                    "Összesen": "52"
                                },
                                {
                                    "SZALLAS_ID": "3",
                                    "Potagy_szama": "0",
                                    "Összesen": "18"
                                },
                                {
                                    "SZALLAS_ID": "3",
                                    "Potagy_szama": "1",
                                    "Összesen": "52"
                                },
                                {
                                    "SZALLAS_ID": "3",
                                    "Potagy_szama": "2",
                                    "Összesen": "36"
                                },
                                {
                                    "SZALLAS_ID": "3",
                                    "Potagy_szama": "Részösszeg",
                                    "Összesen": "106"
                                },
                                {
                                    "SZALLAS_ID": "4",
                                    "Potagy_szama": "0",
                                    "Összesen": "45"
                                },
                                {
                                    "SZALLAS_ID": "4",
                                    "Potagy_szama": "1",
                                    "Összesen": "99"
                                },
                                {
                                    "SZALLAS_ID": "4",
                                    "Potagy_szama": "2",
                                    "Összesen": "40"
                                },
                                {
                                    "SZALLAS_ID": "4",
                                    "Potagy_szama": "Részösszeg",
                                    "Összesen": "184"
                                },
                                {
                                    "SZALLAS_ID": "5",
                                    "Potagy_szama": "0",
                                    "Összesen": "113"
                                },
                                {
                                    "SZALLAS_ID": "5",
                                    "Potagy_szama": "1",
                                    "Összesen": "14"
                                },
                                {
                                    "SZALLAS_ID": "5",
                                    "Potagy_szama": "Részösszeg",
                                    "Összesen": "127"
                                },
                                {
                                    "SZALLAS_ID": "6",
                                    "Potagy_szama": "0",
                                    "Összesen": "168"
                                },
                                {
                                    "SZALLAS_ID": "6",
                                    "Potagy_szama": "1",
                                    "Összesen": "224"
                                },
                                {
                                    "SZALLAS_ID": "6",
                                    "Potagy_szama": "2",
                                    "Összesen": "28"
                                },
                                {
                                    "SZALLAS_ID": "6",
                                    "Potagy_szama": "Részösszeg",
                                    "Összesen": "420"
                                },
                                {
                                    "SZALLAS_ID": "7",
                                    "Potagy_szama": "0",
                                    "Összesen": "64"
                                },
                                {
                                    "SZALLAS_ID": "7",
                                    "Potagy_szama": "1",
                                    "Összesen": "19"
                                },
                                {
                                    "SZALLAS_ID": "7",
                                    "Potagy_szama": "Részösszeg",
                                    "Összesen": "83"
                                },
                                {
                                    "SZALLAS_ID": "8",
                                    "Potagy_szama": "0",
                                    "Összesen": "183"
                                },
                                {
                                    "SZALLAS_ID": "8",
                                    "Potagy_szama": "1",
                                    "Összesen": "258"
                                },
                                {
                                    "SZALLAS_ID": "8",
                                    "Potagy_szama": "2",
                                    "Összesen": "63"
                                },
                                {
                                    "SZALLAS_ID": "8",
                                    "Potagy_szama": "Részösszeg",
                                    "Összesen": "504"
                                },
                                {
                                    "SZALLAS_ID": "9",
                                    "Potagy_szama": "0",
                                    "Összesen": "66"
                                },
                                {
                                    "SZALLAS_ID": "9",
                                    "Potagy_szama": "Részösszeg",
                                    "Összesen": "66"
                                },
                                {
                                    "SZALLAS_ID": "10",
                                    "Potagy_szama": "0",
                                    "Összesen": "105"
                                },
                                {
                                    "SZALLAS_ID": "10",
                                    "Potagy_szama": "1",
                                    "Összesen": "150"
                                },
                                {
                                    "SZALLAS_ID": "10",
                                    "Potagy_szama": "2",
                                    "Összesen": "36"
                                },
                                {
                                    "SZALLAS_ID": "10",
                                    "Potagy_szama": "Részösszeg",
                                    "Összesen": "291"
                                },
                                {
                                    "SZALLAS_ID": "11",
                                    "Potagy_szama": "0",
                                    "Összesen": "31"
                                },
                                {
                                    "SZALLAS_ID": "11",
                                    "Potagy_szama": "1",
                                    "Összesen": "17"
                                },
                                {
                                    "SZALLAS_ID": "11",
                                    "Potagy_szama": "2",
                                    "Összesen": "15"
                                },
                                {
                                    "SZALLAS_ID": "11",
                                    "Potagy_szama": "Részösszeg",
                                    "Összesen": "63"
                                },
                                {
                                    "SZALLAS_ID": "12",
                                    "Potagy_szama": "0",
                                    "Összesen": "216"
                                },
                                {
                                    "SZALLAS_ID": "12",
                                    "Potagy_szama": "1",
                                    "Összesen": "93"
                                },
                                {
                                    "SZALLAS_ID": "12",
                                    "Potagy_szama": "2",
                                    "Összesen": "119"
                                },
                                {
                                    "SZALLAS_ID": "12",
                                    "Potagy_szama": "Részösszeg",
                                    "Összesen": "428"
                                },
                                {
                                    "SZALLAS_ID": "Végösszeg",
                                    "Potagy_szama": "Végösszeg",
                                    "Összesen": "2490"
                                }
                            ]
                        },
                        "text/html": [
                            "<table>",
                            "<tr><th>SZALLAS_ID</th><th>Potagy_szama</th><th>Összesen</th></tr>",
                            "<tr><td>1</td><td>0</td><td>67</td></tr>",
                            "<tr><td>1</td><td>1</td><td>99</td></tr>",
                            "<tr><td>1</td><td>Részösszeg</td><td>166</td></tr>",
                            "<tr><td>2</td><td>0</td><td>10</td></tr>",
                            "<tr><td>2</td><td>1</td><td>31</td></tr>",
                            "<tr><td>2</td><td>2</td><td>11</td></tr>",
                            "<tr><td>2</td><td>Részösszeg</td><td>52</td></tr>",
                            "<tr><td>3</td><td>0</td><td>18</td></tr>",
                            "<tr><td>3</td><td>1</td><td>52</td></tr>",
                            "<tr><td>3</td><td>2</td><td>36</td></tr>",
                            "<tr><td>3</td><td>Részösszeg</td><td>106</td></tr>",
                            "<tr><td>4</td><td>0</td><td>45</td></tr>",
                            "<tr><td>4</td><td>1</td><td>99</td></tr>",
                            "<tr><td>4</td><td>2</td><td>40</td></tr>",
                            "<tr><td>4</td><td>Részösszeg</td><td>184</td></tr>",
                            "<tr><td>5</td><td>0</td><td>113</td></tr>",
                            "<tr><td>5</td><td>1</td><td>14</td></tr>",
                            "<tr><td>5</td><td>Részösszeg</td><td>127</td></tr>",
                            "<tr><td>6</td><td>0</td><td>168</td></tr>",
                            "<tr><td>6</td><td>1</td><td>224</td></tr>",
                            "<tr><td>6</td><td>2</td><td>28</td></tr>",
                            "<tr><td>6</td><td>Részösszeg</td><td>420</td></tr>",
                            "<tr><td>7</td><td>0</td><td>64</td></tr>",
                            "<tr><td>7</td><td>1</td><td>19</td></tr>",
                            "<tr><td>7</td><td>Részösszeg</td><td>83</td></tr>",
                            "<tr><td>8</td><td>0</td><td>183</td></tr>",
                            "<tr><td>8</td><td>1</td><td>258</td></tr>",
                            "<tr><td>8</td><td>2</td><td>63</td></tr>",
                            "<tr><td>8</td><td>Részösszeg</td><td>504</td></tr>",
                            "<tr><td>9</td><td>0</td><td>66</td></tr>",
                            "<tr><td>9</td><td>Részösszeg</td><td>66</td></tr>",
                            "<tr><td>10</td><td>0</td><td>105</td></tr>",
                            "<tr><td>10</td><td>1</td><td>150</td></tr>",
                            "<tr><td>10</td><td>2</td><td>36</td></tr>",
                            "<tr><td>10</td><td>Részösszeg</td><td>291</td></tr>",
                            "<tr><td>11</td><td>0</td><td>31</td></tr>",
                            "<tr><td>11</td><td>1</td><td>17</td></tr>",
                            "<tr><td>11</td><td>2</td><td>15</td></tr>",
                            "<tr><td>11</td><td>Részösszeg</td><td>63</td></tr>",
                            "<tr><td>12</td><td>0</td><td>216</td></tr>",
                            "<tr><td>12</td><td>1</td><td>93</td></tr>",
                            "<tr><td>12</td><td>2</td><td>119</td></tr>",
                            "<tr><td>12</td><td>Részösszeg</td><td>428</td></tr>",
                            "<tr><td>Végösszeg</td><td>Végösszeg</td><td>2490</td></tr>",
                            "</table>"
                        ]
                    }
                }
            ],
            "execution_count": 24
        },
        {
            "cell_type": "markdown",
            "source": [
                "Készítsünk ideiglenes táblát #MASKED\\_GUEST néven, ahol \n",
                "\n",
                "- a tábla felépítése megegyezik a vendég tábláéval, DE\n",
                "- a vendégek nevének csak az első 2, és az utolsó 3 karaktere jelenjen meg, közötte X-ek legyenek!"
            ],
            "metadata": {
                "azdata_cell_guid": "cfa24b35-b341-4d0c-a9ad-03a3d409f7c7"
            },
            "attachments": {}
        },
        {
            "cell_type": "code",
            "source": [
                "CREATE TABLE #MASKED_GUEST\r\n",
                "(\r\n",
                "    USERNEV nvarchar(20) PRIMARY KEY,\r\n",
                "    NEV NVARCHAR(20) MASKED WITH(FUNCTION='partial(2,\"XXX\",3)'),\r\n",
                "    EMAIL NVARCHAR(20),\r\n",
                "    SZAML_CIM NVARCHAR(20),\r\n",
                "    SZUL_DAT date\r\n",
                ")"
            ],
            "metadata": {
                "azdata_cell_guid": "a999259d-eba9-4ccf-b61f-a679003616b9",
                "language": "sql"
            },
            "outputs": [],
            "execution_count": null
        },
        {
            "cell_type": "markdown",
            "source": [
                "Valósítsa meg REDIS-ben a következő táblákat:\n",
                "\n",
                "- <span style=\"box-sizing: border-box; font-size: 0.9375rem;\">IRO(ID, nev, nemzetiseg)</span>\n",
                "- KONYV(ID, cim, mufaj, IRO\\_ID)\n",
                "\n",
                "Vigyen fel táblánként legalább 2-2 sornyi adatot!"
            ],
            "metadata": {
                "azdata_cell_guid": "59e6315f-10cb-4ee2-90c2-1cbfbc350835"
            },
            "attachments": {}
        },
        {
            "cell_type": "code",
            "source": [
                "\r\n",
                "HSET iro:1 ID 1 nev \"Attila\" nemzetiseg \"magyar\"\r\n",
                "HSET iro:2 ID 2 nev \"John\" nemzetiseg \"angol\"\r\n",
                "HSET konyv:1 ID 1 cim \"vers_cim_1\" mufaj \"vers\" IRO_ID 1\r\n",
                "HSET konyv:2 ID 2 cim \"konyv_cim_1\" mufaj \"regény\" IRO_ID 2\r\n",
                ""
            ],
            "metadata": {
                "azdata_cell_guid": "b6a29270-fec9-45a3-a7a3-8770130c69b3",
                "language": "sql"
            },
            "outputs": [],
            "execution_count": null
        },
        {
            "cell_type": "markdown",
            "source": [
                "A Neo4j Sandbox-ban vagy a Desktopban jelenítsük meg azon személyeket, akik egy filmben szerepeltek Tom Hanks-sel.\n",
                "\n",
                "- Egy szereplő neve csak egyszer jelenjen meg\n",
                "- Tom Hanks ne legyen benne a listában"
            ],
            "metadata": {
                "azdata_cell_guid": "57c42b10-399f-49d4-9240-b56ce8a8e3f5"
            },
            "attachments": {}
        },
        {
            "cell_type": "code",
            "source": [
                "MATCH (p:Person {name: \"Tom Hanks\"})-[:ACTED_IN]->(m:Movie)<-[:ACTED_IN]-(p2:Person)\r\n",
                "WHERE p2.name <> \"Tom Hanks\"\r\n",
                "RETURN DISTINCT p2.name AS szereplok\r\n",
                ""
            ],
            "metadata": {
                "azdata_cell_guid": "a24df8be-f867-4452-aa19-3da95215fd2d",
                "language": "sql"
            },
            "outputs": [],
            "execution_count": null
        }
    ]
}