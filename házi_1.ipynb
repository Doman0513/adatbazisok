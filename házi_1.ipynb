{
    "metadata": {
        "kernelspec": {
            "name": "SQL",
            "display_name": "SQL",
            "language": "sql"
        },
        "language_info": {
            "name": "sql",
            "version": ""
        }
    },
    "nbformat_minor": 2,
    "nbformat": 4,
    "cells": [
        {
            "cell_type": "code",
            "source": [
                "--1. Listaár értékek vizsgálata (min, max, avg, stdev, var)\r\n",
                "SELECT MIN(listaar) AS 'minimum',\r\n",
                "       MAX(listaar) AS 'maximum',\r\n",
                "       AVG(listaar) AS 'átlag',\r\n",
                "       STDEV(listaar) AS 'szórás',\r\n",
                "       VAR(listaar) AS 'variancia'\r\n",
                "FROM Termek\r\n",
                "WHERE LISTAAR IS NOT NULL\r\n",
                ""
            ],
            "metadata": {
                "azdata_cell_guid": "48eaf6f4-9041-42fd-aa74-0b78fe306cf0",
                "language": "sql",
                "tags": []
            },
            "outputs": [
                {
                    "output_type": "display_data",
                    "data": {
                        "text/html": "(1 row affected)"
                    },
                    "metadata": {}
                },
                {
                    "output_type": "display_data",
                    "data": {
                        "text/html": "Total execution time: 00:00:00.013"
                    },
                    "metadata": {}
                },
                {
                    "output_type": "execute_result",
                    "metadata": {},
                    "execution_count": 13,
                    "data": {
                        "application/vnd.dataresource+json": {
                            "schema": {
                                "fields": [
                                    {
                                        "name": "minimum"
                                    },
                                    {
                                        "name": "maximum"
                                    },
                                    {
                                        "name": "átlag"
                                    },
                                    {
                                        "name": "szórás"
                                    },
                                    {
                                        "name": "variancia"
                                    }
                                ]
                            },
                            "data": [
                                {
                                    "minimum": "0",
                                    "maximum": "46000",
                                    "átlag": "786,2813067150635",
                                    "szórás": "3602,4811630060694",
                                    "variancia": "12977870,529813562"
                                }
                            ]
                        },
                        "text/html": [
                            "<table>",
                            "<tr><th>minimum</th><th>maximum</th><th>átlag</th><th>szórás</th><th>variancia</th></tr>",
                            "<tr><td>0</td><td>46000</td><td>786,2813067150635</td><td>3602,4811630060694</td><td>12977870,529813562</td></tr>",
                            "</table>"
                        ]
                    }
                }
            ],
            "execution_count": 13
        },
        {
            "cell_type": "code",
            "source": [
                "--2. Kategóriánként átlagár vizsgálata, top 10 legmagasabb átlagár.\r\n",
                "SELECT top 10\r\n",
                "    kat_id AS 'kategoria_id', \r\n",
                "    avg(LISTAAR) as 'átlagár'\r\n",
                "from termek\r\n",
                "WHERE KAT_ID IS NOT null\r\n",
                "GROUP BY KAT_ID\r\n",
                "ORDER BY avg(listaar) desc"
            ],
            "metadata": {
                "azdata_cell_guid": "6c2c063e-c658-4533-8f69-f9e102a79e7a",
                "language": "sql"
            },
            "outputs": [
                {
                    "output_type": "display_data",
                    "data": {
                        "text/html": "(10 rows affected)"
                    },
                    "metadata": {}
                },
                {
                    "output_type": "display_data",
                    "data": {
                        "text/html": "Total execution time: 00:00:00.086"
                    },
                    "metadata": {}
                },
                {
                    "output_type": "execute_result",
                    "metadata": {},
                    "execution_count": 1,
                    "data": {
                        "application/vnd.dataresource+json": {
                            "schema": {
                                "fields": [
                                    {
                                        "name": "kategoria_id"
                                    },
                                    {
                                        "name": "átlagár"
                                    }
                                ]
                            },
                            "data": [
                                {
                                    "kategoria_id": "88",
                                    "átlagár": "42500"
                                },
                                {
                                    "kategoria_id": "107",
                                    "átlagár": "24000"
                                },
                                {
                                    "kategoria_id": "38",
                                    "átlagár": "22000"
                                },
                                {
                                    "kategoria_id": "8",
                                    "átlagár": "21933,333333333332"
                                },
                                {
                                    "kategoria_id": "147",
                                    "átlagár": "14250"
                                },
                                {
                                    "kategoria_id": "39",
                                    "átlagár": "9895"
                                },
                                {
                                    "kategoria_id": "55",
                                    "átlagár": "8900"
                                },
                                {
                                    "kategoria_id": "108",
                                    "átlagár": "8290"
                                },
                                {
                                    "kategoria_id": "54",
                                    "átlagár": "7600"
                                },
                                {
                                    "kategoria_id": "37",
                                    "átlagár": "6490"
                                }
                            ]
                        },
                        "text/html": [
                            "<table>",
                            "<tr><th>kategoria_id</th><th>átlagár</th></tr>",
                            "<tr><td>88</td><td>42500</td></tr>",
                            "<tr><td>107</td><td>24000</td></tr>",
                            "<tr><td>38</td><td>22000</td></tr>",
                            "<tr><td>8</td><td>21933,333333333332</td></tr>",
                            "<tr><td>147</td><td>14250</td></tr>",
                            "<tr><td>39</td><td>9895</td></tr>",
                            "<tr><td>55</td><td>8900</td></tr>",
                            "<tr><td>108</td><td>8290</td></tr>",
                            "<tr><td>54</td><td>7600</td></tr>",
                            "<tr><td>37</td><td>6490</td></tr>",
                            "</table>"
                        ]
                    }
                }
            ],
            "execution_count": 1
        },
        {
            "cell_type": "code",
            "source": [
                "3.-- Mennyiségi egység kategóriánként max listaár és darabszám vizsgálata\r\n",
                "select megys as 'mennyiségi_egység',\r\n",
                "        max(listaar) as 'max_ár',\r\n",
                "        count(*) as 'darabszám'\r\n",
                "from termek\r\n",
                "WHERE MEGYS IS NOT NULL\r\n",
                "group by megys"
            ],
            "metadata": {
                "azdata_cell_guid": "d9d00ee1-b3cb-4972-9b9a-736d663a1cf0",
                "language": "sql",
                "tags": []
            },
            "outputs": [
                {
                    "output_type": "display_data",
                    "data": {
                        "text/html": "(6 rows affected)"
                    },
                    "metadata": {}
                },
                {
                    "output_type": "display_data",
                    "data": {
                        "text/html": "Total execution time: 00:00:00.042"
                    },
                    "metadata": {}
                },
                {
                    "output_type": "execute_result",
                    "execution_count": 21,
                    "data": {
                        "application/vnd.dataresource+json": {
                            "schema": {
                                "fields": [
                                    {
                                        "name": "mennyiségi_egység"
                                    },
                                    {
                                        "name": "max_ár"
                                    },
                                    {
                                        "name": "darabszám"
                                    }
                                ]
                            },
                            "data": [
                                {
                                    "mennyiségi_egység": "csomag",
                                    "max_ár": "1500",
                                    "darabszám": "44"
                                },
                                {
                                    "mennyiségi_egység": "db",
                                    "max_ár": "46000",
                                    "darabszám": "483"
                                },
                                {
                                    "mennyiségi_egység": "doboz",
                                    "max_ár": "4575",
                                    "darabszám": "1"
                                },
                                {
                                    "mennyiségi_egység": "ív",
                                    "max_ár": "121",
                                    "darabszám": "21"
                                },
                                {
                                    "mennyiségi_egység": "tekercs",
                                    "max_ár": "148",
                                    "darabszám": "1"
                                },
                                {
                                    "mennyiségi_egység": "üveg",
                                    "max_ár": "493",
                                    "darabszám": "1"
                                }
                            ]
                        },
                        "text/html": "<table><tr><th>mennyiségi_egység</th><th>max_ár</th><th>darabszám</th></tr><tr><td>csomag</td><td>1500</td><td>44</td></tr><tr><td>db</td><td>46000</td><td>483</td></tr><tr><td>doboz</td><td>4575</td><td>1</td></tr><tr><td>ív</td><td>121</td><td>21</td></tr><tr><td>tekercs</td><td>148</td><td>1</td></tr><tr><td>üveg</td><td>493</td><td>1</td></tr></table>"
                    },
                    "metadata": {}
                }
            ],
            "execution_count": 21
        },
        {
            "cell_type": "code",
            "source": [
                "--4. hónaponként felvitt darabszám vizsgálata növekvő sorrendben\r\n",
                "SELECT month(FELVITEL) as 'hónap'\r\n",
                "        count(*) as 'darabszám',\r\n",
                "        \r\n",
                "from Termek\r\n",
                "group by month(FELVITEL)\r\n",
                "order by count(*) ASC"
            ],
            "metadata": {
                "azdata_cell_guid": "72eb5a54-962a-4410-9eeb-f4ed9eaf1446",
                "language": "sql"
            },
            "outputs": [
                {
                    "output_type": "display_data",
                    "data": {
                        "text/html": "(4 rows affected)"
                    },
                    "metadata": {}
                },
                {
                    "output_type": "display_data",
                    "data": {
                        "text/html": "Total execution time: 00:00:00.023"
                    },
                    "metadata": {}
                },
                {
                    "output_type": "execute_result",
                    "metadata": {},
                    "execution_count": 11,
                    "data": {
                        "application/vnd.dataresource+json": {
                            "schema": {
                                "fields": [
                                    {
                                        "name": "darabszám"
                                    },
                                    {
                                        "name": "hónap"
                                    }
                                ]
                            },
                            "data": [
                                {
                                    "darabszám": "1",
                                    "hónap": "9"
                                },
                                {
                                    "darabszám": "1",
                                    "hónap": "12"
                                },
                                {
                                    "darabszám": "194",
                                    "hónap": "8"
                                },
                                {
                                    "darabszám": "355",
                                    "hónap": "7"
                                }
                            ]
                        },
                        "text/html": [
                            "<table>",
                            "<tr><th>darabszám</th><th>hónap</th></tr>",
                            "<tr><td>1</td><td>9</td></tr>",
                            "<tr><td>1</td><td>12</td></tr>",
                            "<tr><td>194</td><td>8</td></tr>",
                            "<tr><td>355</td><td>7</td></tr>",
                            "</table>"
                        ]
                    }
                }
            ],
            "execution_count": 11
        },
        {
            "cell_type": "code",
            "source": [
                "--5. Adatrögzítőnként a készlet felvitelének, null értékeknek vizsgálata.\r\n",
                "SELECT\r\n",
                "    FELVITTE as 'Adatrögzítő neve',\r\n",
                "    count(CASE WHEN keszlet is null THEN 1 END) AS 'Üres cellák a készlet oszlopban',\r\n",
                "    count(CASE WHEN keszlet is not null THEN 1 END) AS 'Kitöltött cellák a készlet oszlopban',\r\n",
                "    count(CASE WHEN keszlet is  null THEN 1 END) * 100 / COUNT(*) AS 'Üres cellák aránya a kitöltöttekhez (%)'\r\n",
                "FROM Termek\r\n",
                "GROUP BY FELVITTE\r\n",
                "ORDER BY FELVITTE"
            ],
            "metadata": {
                "azdata_cell_guid": "46e7d423-3575-4ecd-8415-d6677753b0f2",
                "language": "sql"
            },
            "outputs": [
                {
                    "output_type": "display_data",
                    "data": {
                        "text/html": "Warning: Null value is eliminated by an aggregate or other SET operation."
                    },
                    "metadata": {}
                },
                {
                    "output_type": "display_data",
                    "data": {
                        "text/html": "(3 rows affected)"
                    },
                    "metadata": {}
                },
                {
                    "output_type": "display_data",
                    "data": {
                        "text/html": "Total execution time: 00:00:00.044"
                    },
                    "metadata": {}
                },
                {
                    "output_type": "execute_result",
                    "metadata": {},
                    "execution_count": 12,
                    "data": {
                        "application/vnd.dataresource+json": {
                            "schema": {
                                "fields": [
                                    {
                                        "name": "Adatrögzítő neve"
                                    },
                                    {
                                        "name": "Üres cellák a leírás oszlopban"
                                    },
                                    {
                                        "name": "Kitöltött cellák a leírás oszlopban"
                                    },
                                    {
                                        "name": "Üres cellák aránya a kitöltöttekhez (%)"
                                    }
                                ]
                            },
                            "data": [
                                {
                                    "Adatrögzítő neve": "Béla",
                                    "Üres cellák a leírás oszlopban": "0",
                                    "Kitöltött cellák a leírás oszlopban": "189",
                                    "Üres cellák aránya a kitöltöttekhez (%)": "0"
                                },
                                {
                                    "Adatrögzítő neve": "Mari",
                                    "Üres cellák a leírás oszlopban": "0",
                                    "Kitöltött cellák a leírás oszlopban": "174",
                                    "Üres cellák aránya a kitöltöttekhez (%)": "0"
                                },
                                {
                                    "Adatrögzítő neve": "Sára",
                                    "Üres cellák a leírás oszlopban": "0",
                                    "Kitöltött cellák a leírás oszlopban": "188",
                                    "Üres cellák aránya a kitöltöttekhez (%)": "0"
                                }
                            ]
                        },
                        "text/html": [
                            "<table>",
                            "<tr><th>Adatrögzítő neve</th><th>Üres cellák a leírás oszlopban</th><th>Kitöltött cellák a leírás oszlopban</th><th>Üres cellák aránya a kitöltöttekhez (%)</th></tr>",
                            "<tr><td>Béla</td><td>0</td><td>189</td><td>0</td></tr>",
                            "<tr><td>Mari</td><td>0</td><td>174</td><td>0</td></tr>",
                            "<tr><td>Sára</td><td>0</td><td>188</td><td>0</td></tr>",
                            "</table>"
                        ]
                    }
                }
            ],
            "execution_count": 12
        },
        {
            "cell_type": "code",
            "source": [
                "6.-- null és nem null értékek darabszáma a készletben\r\n",
                "SELECT\r\n",
                "    COUNT(*) as 'darabszám',\r\n",
                "    CASE WHEN keszlet IS NULL or keszlet=0 THEN  'keszlet Null/nulla'\r\n",
                "            ELSE 'keszlet nem null/nulla' \r\n",
                "            END as 'érték'\r\n",
                "FROM termek\r\n",
                "group by CASE WHEN keszlet IS NULL or keszlet=0 THEN  'keszlet Null/nulla'\r\n",
                "            ELSE 'keszlet nem null/nulla' \r\n",
                "            END"
            ],
            "metadata": {
                "azdata_cell_guid": "10f9fd0d-b476-4eb5-9f69-ba3da8783633",
                "language": "sql",
                "tags": []
            },
            "outputs": [
                {
                    "output_type": "display_data",
                    "data": {
                        "text/html": "(2 rows affected)"
                    },
                    "metadata": {}
                },
                {
                    "output_type": "display_data",
                    "data": {
                        "text/html": "Total execution time: 00:00:00.026"
                    },
                    "metadata": {}
                },
                {
                    "output_type": "execute_result",
                    "execution_count": 41,
                    "data": {
                        "application/vnd.dataresource+json": {
                            "schema": {
                                "fields": [
                                    {
                                        "name": "darabszám"
                                    },
                                    {
                                        "name": "érték"
                                    }
                                ]
                            },
                            "data": [
                                {
                                    "darabszám": "549",
                                    "érték": "keszlet nem null/nulla"
                                },
                                {
                                    "darabszám": "2",
                                    "érték": "keszlet Null/nulla"
                                }
                            ]
                        },
                        "text/html": "<table><tr><th>darabszám</th><th>érték</th></tr><tr><td>549</td><td>keszlet nem null/nulla</td></tr><tr><td>2</td><td>keszlet Null/nulla</td></tr></table>"
                    },
                    "metadata": {}
                }
            ],
            "execution_count": 41
        },
        {
            "cell_type": "code",
            "source": [
                "--7. felvitel mennyisége ha 170 fölött-->sokat,ha nem-->nem olyan sokat és átlag készletszám emberenként, ahol a leírás null, növekvő sorrendben\r\n",
                "select\r\n",
                "        FELVITTE,\r\n",
                "        IIF(count(*)>170, 'sokat', 'nem olyan sokat') as 'felvitel mennyiség',\r\n",
                "        AVG(keszlet) as 'átlag készlet'\r\n",
                "from Termek\r\n",
                "where leiras is null\r\n",
                "group by FELVITTE  \r\n",
                "order by avg(keszlet) asc"
            ],
            "metadata": {
                "azdata_cell_guid": "bc688752-3c69-4897-a509-6d8ed79b4720",
                "language": "sql"
            },
            "outputs": [
                {
                    "output_type": "display_data",
                    "data": {
                        "text/html": "(3 rows affected)"
                    },
                    "metadata": {}
                },
                {
                    "output_type": "display_data",
                    "data": {
                        "text/html": "Total execution time: 00:00:00.027"
                    },
                    "metadata": {}
                },
                {
                    "output_type": "execute_result",
                    "metadata": {},
                    "execution_count": 27,
                    "data": {
                        "application/vnd.dataresource+json": {
                            "schema": {
                                "fields": [
                                    {
                                        "name": "FELVITTE"
                                    },
                                    {
                                        "name": "felvitel mennyiség"
                                    },
                                    {
                                        "name": "átlag készlet"
                                    }
                                ]
                            },
                            "data": [
                                {
                                    "FELVITTE": "Sára",
                                    "felvitel mennyiség": "sokat",
                                    "átlag készlet": "1296,6988636363637"
                                },
                                {
                                    "FELVITTE": "Béla",
                                    "felvitel mennyiség": "sokat",
                                    "átlag készlet": "1763,5135135135135"
                                },
                                {
                                    "FELVITTE": "Mari",
                                    "felvitel mennyiség": "nem olyan sokat",
                                    "átlag készlet": "1886,9036144578313"
                                }
                            ]
                        },
                        "text/html": [
                            "<table>",
                            "<tr><th>FELVITTE</th><th>felvitel mennyiség</th><th>átlag készlet</th></tr>",
                            "<tr><td>Sára</td><td>sokat</td><td>1296,6988636363637</td></tr>",
                            "<tr><td>Béla</td><td>sokat</td><td>1763,5135135135135</td></tr>",
                            "<tr><td>Mari</td><td>nem olyan sokat</td><td>1886,9036144578313</td></tr>",
                            "</table>"
                        ]
                    }
                }
            ],
            "execution_count": 27
        }
    ]
}